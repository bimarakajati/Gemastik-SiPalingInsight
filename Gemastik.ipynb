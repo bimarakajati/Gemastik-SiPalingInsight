{
  "cells": [
    {
      "cell_type": "markdown",
      "metadata": {
        "id": "vNGNqwymdBqL"
      },
      "source": [
        "# Abstract\n",
        "Penelitian ini bertujuan untuk memprediksi jumlah pendapatan Indonesia dari ekspor non-migas untuk tahun 2024 dan menganalisis hubungan antara harga crude oil dan ekspor migas terhadap ekspor non-migas. Pendapatan dari ekspor non-migas memiliki peran yang signifikan dalam pertumbuhan ekonomi Indonesia. Metode time series dengan pendekatan Vector Autoregressive (VAR) digunakan untuk memodelkan hubungan simultan antara variabel jumlah pendapatan dari ekspor migas dan non migas serta harga crude oil.\n",
        "\n",
        "Data nilai ekspor migas dan non-migas tahun 2010-2023 dari Badan Pusat Statistik (BPS) dan data harga crude oil dari Yahoo Finance akan digunakan dalam analisis ini. Dengan menggunakan metode VAR, diharapkan dapat memberikan prediksi yang akurat tentang jumlah pendapatan dari ekspor non-migas untuk tahun 2024. Selain itu, analisis ini juga akan mengungkapkan apakah terdapat hubungan antara harga crude oil, ekspor migas, dan ekspor non-migas Indonesia. Hasil akhir setelah mendapat prediksi akan dibarengi dengan rekomendasi komoditi ekspor non-migas yang dapat digunakan pihak-pihak yang ikut serta dalam kegiatan ekspor Indonesia di tahun 2024.\n",
        "\n",
        "Hasil penelitian ini memberikan manfaat yang signifikan dalam pemahaman faktor-faktor yang mempengaruhi pertumbuhan ekonomi Indonesia dan rekomendasi komoditi ekspor non-migas untuk pihak terkait. Informasi yang diperoleh dari penelitian ini akan membantu pihak berwenang dalam merencanakan kebijakan yang efektif untuk meningkatkan pertumbuhan ekonomi, mendorong investasi, dan meningkatkan kesejahteraan masyarakat secara berkelanjutan.\n",
        "\n",
        "**Kata kunci:** *ekspor non-migas, harga crude oil, prediksi pendapatan, time series, Vector Autoregressive (VAR), rekomendasi komoditi ekspor, pertumbuhan ekonomi.*"
      ]
    },
    {
      "cell_type": "markdown",
      "metadata": {
        "id": "-L_zg94-dGmK"
      },
      "source": [
        "# Library Setup"
      ]
    },
    {
      "cell_type": "code",
      "execution_count": 7,
      "metadata": {
        "id": "yyyvzGxMyyso"
      },
      "outputs": [],
      "source": [
        "import pandas as pd\n",
        "import numpy as np\n",
        "import matplotlib.pyplot as plt\n",
        "# from pylab import rcParams"
      ]
    },
    {
      "cell_type": "markdown",
      "metadata": {
        "id": "2XZZZqVkdJTd"
      },
      "source": [
        "# Load the Data"
      ]
    },
    {
      "cell_type": "code",
      "execution_count": 8,
      "metadata": {
        "colab": {
          "base_uri": "https://localhost:8080/",
          "height": 423
        },
        "id": "b9Qg5xK8y0VQ",
        "outputId": "83924c91-ab47-4843-a845-288eff1b7f4c"
      },
      "outputs": [
        {
          "data": {
            "text/html": [
              "<div>\n",
              "<style scoped>\n",
              "    .dataframe tbody tr th:only-of-type {\n",
              "        vertical-align: middle;\n",
              "    }\n",
              "\n",
              "    .dataframe tbody tr th {\n",
              "        vertical-align: top;\n",
              "    }\n",
              "\n",
              "    .dataframe thead th {\n",
              "        text-align: right;\n",
              "    }\n",
              "</style>\n",
              "<table border=\"1\" class=\"dataframe\">\n",
              "  <thead>\n",
              "    <tr style=\"text-align: right;\">\n",
              "      <th></th>\n",
              "      <th>Komponen</th>\n",
              "      <th>Migas</th>\n",
              "      <th>Non Migas</th>\n",
              "      <th>Jumlah</th>\n",
              "    </tr>\n",
              "  </thead>\n",
              "  <tbody>\n",
              "    <tr>\n",
              "      <th>0</th>\n",
              "      <td>January-1993</td>\n",
              "      <td>864.3</td>\n",
              "      <td>2137.6</td>\n",
              "      <td>3001.9</td>\n",
              "    </tr>\n",
              "    <tr>\n",
              "      <th>1</th>\n",
              "      <td>February-1993</td>\n",
              "      <td>767.5</td>\n",
              "      <td>2125</td>\n",
              "      <td>2892.5</td>\n",
              "    </tr>\n",
              "    <tr>\n",
              "      <th>2</th>\n",
              "      <td>March-1993</td>\n",
              "      <td>892.2</td>\n",
              "      <td>2116.3</td>\n",
              "      <td>3008.5</td>\n",
              "    </tr>\n",
              "    <tr>\n",
              "      <th>3</th>\n",
              "      <td>April-1993</td>\n",
              "      <td>744</td>\n",
              "      <td>2213.5</td>\n",
              "      <td>2957.5</td>\n",
              "    </tr>\n",
              "    <tr>\n",
              "      <th>4</th>\n",
              "      <td>May-1993</td>\n",
              "      <td>888.3</td>\n",
              "      <td>2229.7</td>\n",
              "      <td>3118</td>\n",
              "    </tr>\n",
              "    <tr>\n",
              "      <th>...</th>\n",
              "      <td>...</td>\n",
              "      <td>...</td>\n",
              "      <td>...</td>\n",
              "      <td>...</td>\n",
              "    </tr>\n",
              "    <tr>\n",
              "      <th>367</th>\n",
              "      <td>August-2023</td>\n",
              "      <td>-</td>\n",
              "      <td>-</td>\n",
              "      <td>-</td>\n",
              "    </tr>\n",
              "    <tr>\n",
              "      <th>368</th>\n",
              "      <td>September-2023</td>\n",
              "      <td>-</td>\n",
              "      <td>-</td>\n",
              "      <td>-</td>\n",
              "    </tr>\n",
              "    <tr>\n",
              "      <th>369</th>\n",
              "      <td>October-2023</td>\n",
              "      <td>-</td>\n",
              "      <td>-</td>\n",
              "      <td>-</td>\n",
              "    </tr>\n",
              "    <tr>\n",
              "      <th>370</th>\n",
              "      <td>November-2023</td>\n",
              "      <td>-</td>\n",
              "      <td>-</td>\n",
              "      <td>-</td>\n",
              "    </tr>\n",
              "    <tr>\n",
              "      <th>371</th>\n",
              "      <td>December-2023</td>\n",
              "      <td>-</td>\n",
              "      <td>-</td>\n",
              "      <td>-</td>\n",
              "    </tr>\n",
              "  </tbody>\n",
              "</table>\n",
              "<p>372 rows × 4 columns</p>\n",
              "</div>"
            ],
            "text/plain": [
              "           Komponen  Migas Non Migas  Jumlah\n",
              "0      January-1993  864.3    2137.6  3001.9\n",
              "1     February-1993  767.5      2125  2892.5\n",
              "2        March-1993  892.2    2116.3  3008.5\n",
              "3        April-1993    744    2213.5  2957.5\n",
              "4          May-1993  888.3    2229.7    3118\n",
              "..              ...    ...       ...     ...\n",
              "367     August-2023      -         -       -\n",
              "368  September-2023      -         -       -\n",
              "369    October-2023      -         -       -\n",
              "370   November-2023      -         -       -\n",
              "371   December-2023      -         -       -\n",
              "\n",
              "[372 rows x 4 columns]"
            ]
          },
          "execution_count": 8,
          "metadata": {},
          "output_type": "execute_result"
        }
      ],
      "source": [
        "# Load in the dataset\n",
        "df_ekspor = pd.read_csv(\"Datasets/Transposed-Nilai-Ekspor-Migas-Nonmigas - Transposed-Nilai-Ekspor-Migas-Nonmigas.csv\")\n",
        "df_ekspor"
      ]
    },
    {
      "cell_type": "code",
      "execution_count": 9,
      "metadata": {
        "colab": {
          "base_uri": "https://localhost:8080/"
        },
        "id": "avSPoYbadeSR",
        "outputId": "d84f5be9-1e73-46e8-a89b-e1fe70a2d574"
      },
      "outputs": [
        {
          "name": "stdout",
          "output_type": "stream",
          "text": [
            "<class 'pandas.core.frame.DataFrame'>\n",
            "RangeIndex: 372 entries, 0 to 371\n",
            "Data columns (total 4 columns):\n",
            " #   Column     Non-Null Count  Dtype \n",
            "---  ------     --------------  ----- \n",
            " 0   Komponen   372 non-null    object\n",
            " 1   Migas      372 non-null    object\n",
            " 2   Non Migas  372 non-null    object\n",
            " 3   Jumlah     372 non-null    object\n",
            "dtypes: object(4)\n",
            "memory usage: 11.8+ KB\n"
          ]
        }
      ],
      "source": [
        "df_ekspor.info()"
      ]
    },
    {
      "cell_type": "code",
      "execution_count": 10,
      "metadata": {
        "colab": {
          "base_uri": "https://localhost:8080/",
          "height": 423
        },
        "id": "Lw1kMIURQzlh",
        "outputId": "c8ac616e-42cc-4a60-80d9-5c49f4dfccb0"
      },
      "outputs": [
        {
          "data": {
            "text/html": [
              "<div>\n",
              "<style scoped>\n",
              "    .dataframe tbody tr th:only-of-type {\n",
              "        vertical-align: middle;\n",
              "    }\n",
              "\n",
              "    .dataframe tbody tr th {\n",
              "        vertical-align: top;\n",
              "    }\n",
              "\n",
              "    .dataframe thead th {\n",
              "        text-align: right;\n",
              "    }\n",
              "</style>\n",
              "<table border=\"1\" class=\"dataframe\">\n",
              "  <thead>\n",
              "    <tr style=\"text-align: right;\">\n",
              "      <th></th>\n",
              "      <th>Date</th>\n",
              "      <th>Open</th>\n",
              "      <th>High</th>\n",
              "      <th>Low</th>\n",
              "      <th>Close*</th>\n",
              "      <th>Adj Close**</th>\n",
              "      <th>Volume</th>\n",
              "    </tr>\n",
              "  </thead>\n",
              "  <tbody>\n",
              "    <tr>\n",
              "      <th>0</th>\n",
              "      <td>20-Jun-23</td>\n",
              "      <td>71.45</td>\n",
              "      <td>72.09</td>\n",
              "      <td>69.65</td>\n",
              "      <td>70.5</td>\n",
              "      <td>70.5</td>\n",
              "      <td>99,185</td>\n",
              "    </tr>\n",
              "    <tr>\n",
              "      <th>1</th>\n",
              "      <td>19-Jun-23</td>\n",
              "      <td>-</td>\n",
              "      <td>-</td>\n",
              "      <td>-</td>\n",
              "      <td>-</td>\n",
              "      <td>-</td>\n",
              "      <td>-</td>\n",
              "    </tr>\n",
              "    <tr>\n",
              "      <th>2</th>\n",
              "      <td>16-Jun-23</td>\n",
              "      <td>70.55</td>\n",
              "      <td>71.89</td>\n",
              "      <td>69.95</td>\n",
              "      <td>71.78</td>\n",
              "      <td>71.78</td>\n",
              "      <td>99,185</td>\n",
              "    </tr>\n",
              "    <tr>\n",
              "      <th>3</th>\n",
              "      <td>15-Jun-23</td>\n",
              "      <td>68.7</td>\n",
              "      <td>70.96</td>\n",
              "      <td>67.97</td>\n",
              "      <td>70.62</td>\n",
              "      <td>70.62</td>\n",
              "      <td>115,613</td>\n",
              "    </tr>\n",
              "    <tr>\n",
              "      <th>4</th>\n",
              "      <td>14-Jun-23</td>\n",
              "      <td>69.35</td>\n",
              "      <td>70.49</td>\n",
              "      <td>68.07</td>\n",
              "      <td>68.27</td>\n",
              "      <td>68.27</td>\n",
              "      <td>304,449</td>\n",
              "    </tr>\n",
              "    <tr>\n",
              "      <th>...</th>\n",
              "      <td>...</td>\n",
              "      <td>...</td>\n",
              "      <td>...</td>\n",
              "      <td>...</td>\n",
              "      <td>...</td>\n",
              "      <td>...</td>\n",
              "      <td>...</td>\n",
              "    </tr>\n",
              "    <tr>\n",
              "      <th>5809</th>\n",
              "      <td>30-Aug-00</td>\n",
              "      <td>32.75</td>\n",
              "      <td>33.4</td>\n",
              "      <td>32.1</td>\n",
              "      <td>33.4</td>\n",
              "      <td>33.4</td>\n",
              "      <td>79,214</td>\n",
              "    </tr>\n",
              "    <tr>\n",
              "      <th>5810</th>\n",
              "      <td>29-Aug-00</td>\n",
              "      <td>32.82</td>\n",
              "      <td>33.03</td>\n",
              "      <td>32.56</td>\n",
              "      <td>32.72</td>\n",
              "      <td>32.72</td>\n",
              "      <td>49,131</td>\n",
              "    </tr>\n",
              "    <tr>\n",
              "      <th>5811</th>\n",
              "      <td>28-Aug-00</td>\n",
              "      <td>32.04</td>\n",
              "      <td>32.92</td>\n",
              "      <td>31.86</td>\n",
              "      <td>32.87</td>\n",
              "      <td>32.87</td>\n",
              "      <td>46,770</td>\n",
              "    </tr>\n",
              "    <tr>\n",
              "      <th>5812</th>\n",
              "      <td>25-Aug-00</td>\n",
              "      <td>31.7</td>\n",
              "      <td>32.1</td>\n",
              "      <td>31.32</td>\n",
              "      <td>32.05</td>\n",
              "      <td>32.05</td>\n",
              "      <td>44,601</td>\n",
              "    </tr>\n",
              "    <tr>\n",
              "      <th>5813</th>\n",
              "      <td>24-Aug-00</td>\n",
              "      <td>31.9</td>\n",
              "      <td>32.24</td>\n",
              "      <td>31.4</td>\n",
              "      <td>31.63</td>\n",
              "      <td>31.63</td>\n",
              "      <td>72,978</td>\n",
              "    </tr>\n",
              "  </tbody>\n",
              "</table>\n",
              "<p>5814 rows × 7 columns</p>\n",
              "</div>"
            ],
            "text/plain": [
              "           Date   Open   High    Low Close* Adj Close**   Volume\n",
              "0     20-Jun-23  71.45  72.09  69.65   70.5        70.5   99,185\n",
              "1     19-Jun-23      -      -      -      -           -        -\n",
              "2     16-Jun-23  70.55  71.89  69.95  71.78       71.78   99,185\n",
              "3     15-Jun-23   68.7  70.96  67.97  70.62       70.62  115,613\n",
              "4     14-Jun-23  69.35  70.49  68.07  68.27       68.27  304,449\n",
              "...         ...    ...    ...    ...    ...         ...      ...\n",
              "5809  30-Aug-00  32.75   33.4   32.1   33.4        33.4   79,214\n",
              "5810  29-Aug-00  32.82  33.03  32.56  32.72       32.72   49,131\n",
              "5811  28-Aug-00  32.04  32.92  31.86  32.87       32.87   46,770\n",
              "5812  25-Aug-00   31.7   32.1  31.32  32.05       32.05   44,601\n",
              "5813  24-Aug-00   31.9  32.24   31.4  31.63       31.63   72,978\n",
              "\n",
              "[5814 rows x 7 columns]"
            ]
          },
          "execution_count": 10,
          "metadata": {},
          "output_type": "execute_result"
        }
      ],
      "source": [
        "df_crude_oil = pd.read_csv(\"Datasets/Harga Crude Oil Harian - Harga Crude Oil Harian.csv\")\n",
        "df_crude_oil"
      ]
    },
    {
      "cell_type": "code",
      "execution_count": 11,
      "metadata": {
        "colab": {
          "base_uri": "https://localhost:8080/"
        },
        "id": "qhCgxICEdgQQ",
        "outputId": "7846254e-b147-447e-cda0-1a896750a1e2"
      },
      "outputs": [
        {
          "name": "stdout",
          "output_type": "stream",
          "text": [
            "<class 'pandas.core.frame.DataFrame'>\n",
            "RangeIndex: 5814 entries, 0 to 5813\n",
            "Data columns (total 7 columns):\n",
            " #   Column       Non-Null Count  Dtype \n",
            "---  ------       --------------  ----- \n",
            " 0   Date         5814 non-null   object\n",
            " 1   Open         5814 non-null   object\n",
            " 2   High         5814 non-null   object\n",
            " 3   Low          5814 non-null   object\n",
            " 4   Close*       5814 non-null   object\n",
            " 5   Adj Close**  5814 non-null   object\n",
            " 6   Volume       5814 non-null   object\n",
            "dtypes: object(7)\n",
            "memory usage: 318.1+ KB\n"
          ]
        }
      ],
      "source": [
        "df_crude_oil.info()"
      ]
    },
    {
      "cell_type": "markdown",
      "metadata": {
        "id": "H9GvfL5SaISM"
      },
      "source": [
        "# Data Preprocessing"
      ]
    },
    {
      "cell_type": "code",
      "execution_count": 12,
      "metadata": {
        "colab": {
          "base_uri": "https://localhost:8080/",
          "height": 423
        },
        "id": "Ed5DU-377U8d",
        "outputId": "a702a870-76e7-4fff-aa77-3e35cdcfca70"
      },
      "outputs": [
        {
          "data": {
            "text/html": [
              "<div>\n",
              "<style scoped>\n",
              "    .dataframe tbody tr th:only-of-type {\n",
              "        vertical-align: middle;\n",
              "    }\n",
              "\n",
              "    .dataframe tbody tr th {\n",
              "        vertical-align: top;\n",
              "    }\n",
              "\n",
              "    .dataframe thead th {\n",
              "        text-align: right;\n",
              "    }\n",
              "</style>\n",
              "<table border=\"1\" class=\"dataframe\">\n",
              "  <thead>\n",
              "    <tr style=\"text-align: right;\">\n",
              "      <th></th>\n",
              "      <th>Date</th>\n",
              "      <th>High</th>\n",
              "    </tr>\n",
              "  </thead>\n",
              "  <tbody>\n",
              "    <tr>\n",
              "      <th>0</th>\n",
              "      <td>20-Jun-23</td>\n",
              "      <td>72.09</td>\n",
              "    </tr>\n",
              "    <tr>\n",
              "      <th>1</th>\n",
              "      <td>19-Jun-23</td>\n",
              "      <td>-</td>\n",
              "    </tr>\n",
              "    <tr>\n",
              "      <th>2</th>\n",
              "      <td>16-Jun-23</td>\n",
              "      <td>71.89</td>\n",
              "    </tr>\n",
              "    <tr>\n",
              "      <th>3</th>\n",
              "      <td>15-Jun-23</td>\n",
              "      <td>70.96</td>\n",
              "    </tr>\n",
              "    <tr>\n",
              "      <th>4</th>\n",
              "      <td>14-Jun-23</td>\n",
              "      <td>70.49</td>\n",
              "    </tr>\n",
              "    <tr>\n",
              "      <th>...</th>\n",
              "      <td>...</td>\n",
              "      <td>...</td>\n",
              "    </tr>\n",
              "    <tr>\n",
              "      <th>5809</th>\n",
              "      <td>30-Aug-00</td>\n",
              "      <td>33.4</td>\n",
              "    </tr>\n",
              "    <tr>\n",
              "      <th>5810</th>\n",
              "      <td>29-Aug-00</td>\n",
              "      <td>33.03</td>\n",
              "    </tr>\n",
              "    <tr>\n",
              "      <th>5811</th>\n",
              "      <td>28-Aug-00</td>\n",
              "      <td>32.92</td>\n",
              "    </tr>\n",
              "    <tr>\n",
              "      <th>5812</th>\n",
              "      <td>25-Aug-00</td>\n",
              "      <td>32.1</td>\n",
              "    </tr>\n",
              "    <tr>\n",
              "      <th>5813</th>\n",
              "      <td>24-Aug-00</td>\n",
              "      <td>32.24</td>\n",
              "    </tr>\n",
              "  </tbody>\n",
              "</table>\n",
              "<p>5814 rows × 2 columns</p>\n",
              "</div>"
            ],
            "text/plain": [
              "           Date   High\n",
              "0     20-Jun-23  72.09\n",
              "1     19-Jun-23      -\n",
              "2     16-Jun-23  71.89\n",
              "3     15-Jun-23  70.96\n",
              "4     14-Jun-23  70.49\n",
              "...         ...    ...\n",
              "5809  30-Aug-00   33.4\n",
              "5810  29-Aug-00  33.03\n",
              "5811  28-Aug-00  32.92\n",
              "5812  25-Aug-00   32.1\n",
              "5813  24-Aug-00  32.24\n",
              "\n",
              "[5814 rows x 2 columns]"
            ]
          },
          "execution_count": 12,
          "metadata": {},
          "output_type": "execute_result"
        }
      ],
      "source": [
        "df_crude_oil = df_crude_oil[['Date', 'High']].copy()\n",
        "df_crude_oil"
      ]
    },
    {
      "cell_type": "markdown",
      "metadata": {
        "id": "KwUcQuSkaPzS"
      },
      "source": [
        "## Rename column\n"
      ]
    },
    {
      "cell_type": "code",
      "execution_count": 13,
      "metadata": {
        "id": "FOu9i1cdy6dv"
      },
      "outputs": [],
      "source": [
        "df_ekspor = df_ekspor.rename(columns={'Komponen': 'Date'})\n",
        "df_crude_oil = df_crude_oil.rename(columns={'High': 'Crude Oil'})"
      ]
    },
    {
      "cell_type": "code",
      "execution_count": 14,
      "metadata": {
        "colab": {
          "base_uri": "https://localhost:8080/"
        },
        "id": "FNJZdxwAeBzM",
        "outputId": "2d68f929-3237-4eaa-ad8e-0785c1c87732"
      },
      "outputs": [
        {
          "name": "stdout",
          "output_type": "stream",
          "text": [
            "<class 'pandas.core.frame.DataFrame'>\n",
            "RangeIndex: 372 entries, 0 to 371\n",
            "Data columns (total 4 columns):\n",
            " #   Column     Non-Null Count  Dtype \n",
            "---  ------     --------------  ----- \n",
            " 0   Date       372 non-null    object\n",
            " 1   Migas      372 non-null    object\n",
            " 2   Non Migas  372 non-null    object\n",
            " 3   Jumlah     372 non-null    object\n",
            "dtypes: object(4)\n",
            "memory usage: 11.8+ KB\n"
          ]
        }
      ],
      "source": [
        "df_ekspor.info()"
      ]
    },
    {
      "cell_type": "code",
      "execution_count": 15,
      "metadata": {
        "colab": {
          "base_uri": "https://localhost:8080/"
        },
        "id": "UW4t_N7geD5B",
        "outputId": "a165a209-08e6-43d0-fb29-175408281cc5"
      },
      "outputs": [
        {
          "name": "stdout",
          "output_type": "stream",
          "text": [
            "<class 'pandas.core.frame.DataFrame'>\n",
            "RangeIndex: 5814 entries, 0 to 5813\n",
            "Data columns (total 2 columns):\n",
            " #   Column     Non-Null Count  Dtype \n",
            "---  ------     --------------  ----- \n",
            " 0   Date       5814 non-null   object\n",
            " 1   Crude Oil  5814 non-null   object\n",
            "dtypes: object(2)\n",
            "memory usage: 91.0+ KB\n"
          ]
        }
      ],
      "source": [
        "df_crude_oil.info()"
      ]
    },
    {
      "cell_type": "markdown",
      "metadata": {
        "id": "TE-RL1C4aOPK"
      },
      "source": [
        "## Convert date to DateTime"
      ]
    },
    {
      "cell_type": "code",
      "execution_count": 16,
      "metadata": {
        "id": "YXd3ikQ9y6dv"
      },
      "outputs": [
        {
          "name": "stderr",
          "output_type": "stream",
          "text": [
            "C:\\Users\\Bima\\AppData\\Local\\Temp\\ipykernel_4516\\2269563476.py:2: UserWarning: Could not infer format, so each element will be parsed individually, falling back to `dateutil`. To ensure parsing is consistent and as-expected, please specify a format.\n",
            "  df_ekspor['Date']=pd.to_datetime(df_ekspor['Date'])\n",
            "C:\\Users\\Bima\\AppData\\Local\\Temp\\ipykernel_4516\\2269563476.py:3: UserWarning: Could not infer format, so each element will be parsed individually, falling back to `dateutil`. To ensure parsing is consistent and as-expected, please specify a format.\n",
            "  df_crude_oil['Date']=pd.to_datetime(df_crude_oil['Date'])\n"
          ]
        }
      ],
      "source": [
        "# Convert date into Datetime\n",
        "df_ekspor['Date']=pd.to_datetime(df_ekspor['Date'])\n",
        "df_crude_oil['Date']=pd.to_datetime(df_crude_oil['Date'])"
      ]
    },
    {
      "cell_type": "code",
      "execution_count": 17,
      "metadata": {
        "colab": {
          "base_uri": "https://localhost:8080/"
        },
        "id": "CfFPvpTVeF4T",
        "outputId": "b9c53ea8-7595-4181-fb80-6b7e18074793"
      },
      "outputs": [
        {
          "name": "stdout",
          "output_type": "stream",
          "text": [
            "<class 'pandas.core.frame.DataFrame'>\n",
            "RangeIndex: 372 entries, 0 to 371\n",
            "Data columns (total 4 columns):\n",
            " #   Column     Non-Null Count  Dtype         \n",
            "---  ------     --------------  -----         \n",
            " 0   Date       372 non-null    datetime64[ns]\n",
            " 1   Migas      372 non-null    object        \n",
            " 2   Non Migas  372 non-null    object        \n",
            " 3   Jumlah     372 non-null    object        \n",
            "dtypes: datetime64[ns](1), object(3)\n",
            "memory usage: 11.8+ KB\n"
          ]
        }
      ],
      "source": [
        "df_ekspor.info()"
      ]
    },
    {
      "cell_type": "code",
      "execution_count": 18,
      "metadata": {
        "colab": {
          "base_uri": "https://localhost:8080/"
        },
        "id": "t13ngGrWeGyK",
        "outputId": "a35b1410-8b92-4d33-8240-a50ccf1b3cba"
      },
      "outputs": [
        {
          "name": "stdout",
          "output_type": "stream",
          "text": [
            "<class 'pandas.core.frame.DataFrame'>\n",
            "RangeIndex: 5814 entries, 0 to 5813\n",
            "Data columns (total 2 columns):\n",
            " #   Column     Non-Null Count  Dtype         \n",
            "---  ------     --------------  -----         \n",
            " 0   Date       5814 non-null   datetime64[ns]\n",
            " 1   Crude Oil  5814 non-null   object        \n",
            "dtypes: datetime64[ns](1), object(1)\n",
            "memory usage: 91.0+ KB\n"
          ]
        }
      ],
      "source": [
        "df_crude_oil.info()"
      ]
    },
    {
      "cell_type": "markdown",
      "metadata": {
        "id": "q0Q_d4GRaUOb"
      },
      "source": [
        "## Replace '-' with NaN in 'Migas' column"
      ]
    },
    {
      "cell_type": "code",
      "execution_count": 19,
      "metadata": {
        "id": "-fjl5lYcy6dz"
      },
      "outputs": [],
      "source": [
        "df_ekspor = df_ekspor.replace('-', np.nan)\n",
        "df_crude_oil = df_crude_oil.replace('-', np.nan)"
      ]
    },
    {
      "cell_type": "markdown",
      "metadata": {
        "id": "sjGDCTiIaZRC"
      },
      "source": [
        "## Remove rows with NaN values\n"
      ]
    },
    {
      "cell_type": "code",
      "execution_count": 20,
      "metadata": {
        "colab": {
          "base_uri": "https://localhost:8080/"
        },
        "id": "uDUkHRGoeKAM",
        "outputId": "42d52be0-b935-43bb-e723-3bf726436bde"
      },
      "outputs": [
        {
          "data": {
            "text/plain": [
              "Date         0\n",
              "Migas        8\n",
              "Non Migas    8\n",
              "Jumlah       8\n",
              "dtype: int64"
            ]
          },
          "execution_count": 20,
          "metadata": {},
          "output_type": "execute_result"
        }
      ],
      "source": [
        "# Count NaN values in each column\n",
        "nan_counts = df_ekspor.isna().sum()\n",
        "nan_counts"
      ]
    },
    {
      "cell_type": "code",
      "execution_count": 21,
      "metadata": {
        "id": "kdXj3xuRy6d0"
      },
      "outputs": [],
      "source": [
        "df_ekspor = df_ekspor.dropna()"
      ]
    },
    {
      "cell_type": "code",
      "execution_count": 22,
      "metadata": {
        "colab": {
          "base_uri": "https://localhost:8080/"
        },
        "id": "A8z-9vBkeLfp",
        "outputId": "fdcaaae3-8857-4bc4-9656-e3d74a077a0c"
      },
      "outputs": [
        {
          "data": {
            "text/plain": [
              "Date         0\n",
              "Migas        0\n",
              "Non Migas    0\n",
              "Jumlah       0\n",
              "dtype: int64"
            ]
          },
          "execution_count": 22,
          "metadata": {},
          "output_type": "execute_result"
        }
      ],
      "source": [
        "# Count NaN values in each column\n",
        "nan_counts = df_ekspor.isna().sum()\n",
        "nan_counts"
      ]
    },
    {
      "cell_type": "markdown",
      "metadata": {
        "id": "wou2szuzaXaR"
      },
      "source": [
        "## Convert to numeric"
      ]
    },
    {
      "cell_type": "code",
      "execution_count": 23,
      "metadata": {
        "id": "JqpRcaqmy6d1"
      },
      "outputs": [],
      "source": [
        "# Convert column to float\n",
        "df_ekspor['Migas'] = df_ekspor['Migas'].astype(float)\n",
        "df_ekspor['Non Migas'] = df_ekspor['Non Migas'].astype(float)\n",
        "df_crude_oil['Crude Oil'] = df_crude_oil['Crude Oil'].astype(float)"
      ]
    },
    {
      "cell_type": "code",
      "execution_count": 24,
      "metadata": {
        "colab": {
          "base_uri": "https://localhost:8080/"
        },
        "id": "P4iMkiene1_7",
        "outputId": "146e0c15-a762-4bc2-c1bb-5aca19dde1d0"
      },
      "outputs": [
        {
          "name": "stdout",
          "output_type": "stream",
          "text": [
            "<class 'pandas.core.frame.DataFrame'>\n",
            "Index: 364 entries, 0 to 363\n",
            "Data columns (total 4 columns):\n",
            " #   Column     Non-Null Count  Dtype         \n",
            "---  ------     --------------  -----         \n",
            " 0   Date       364 non-null    datetime64[ns]\n",
            " 1   Migas      364 non-null    float64       \n",
            " 2   Non Migas  364 non-null    float64       \n",
            " 3   Jumlah     364 non-null    object        \n",
            "dtypes: datetime64[ns](1), float64(2), object(1)\n",
            "memory usage: 14.2+ KB\n"
          ]
        }
      ],
      "source": [
        "df_ekspor.info()"
      ]
    },
    {
      "cell_type": "code",
      "execution_count": 25,
      "metadata": {
        "colab": {
          "base_uri": "https://localhost:8080/",
          "height": 112
        },
        "id": "AYxexpg69QuA",
        "outputId": "fa879d22-e683-452a-9288-631155d6b0ed"
      },
      "outputs": [
        {
          "data": {
            "text/html": [
              "<div>\n",
              "<style scoped>\n",
              "    .dataframe tbody tr th:only-of-type {\n",
              "        vertical-align: middle;\n",
              "    }\n",
              "\n",
              "    .dataframe tbody tr th {\n",
              "        vertical-align: top;\n",
              "    }\n",
              "\n",
              "    .dataframe thead th {\n",
              "        text-align: right;\n",
              "    }\n",
              "</style>\n",
              "<table border=\"1\" class=\"dataframe\">\n",
              "  <thead>\n",
              "    <tr style=\"text-align: right;\">\n",
              "      <th></th>\n",
              "      <th>count</th>\n",
              "      <th>mean</th>\n",
              "      <th>min</th>\n",
              "      <th>25%</th>\n",
              "      <th>50%</th>\n",
              "      <th>75%</th>\n",
              "      <th>max</th>\n",
              "      <th>std</th>\n",
              "    </tr>\n",
              "  </thead>\n",
              "  <tbody>\n",
              "    <tr>\n",
              "      <th>Date</th>\n",
              "      <td>364</td>\n",
              "      <td>2008-02-15 08:02:38.241758208</td>\n",
              "      <td>1993-01-01 00:00:00</td>\n",
              "      <td>2000-07-24 06:00:00</td>\n",
              "      <td>2008-02-15 12:00:00</td>\n",
              "      <td>2015-09-08 12:00:00</td>\n",
              "      <td>2023-04-01 00:00:00</td>\n",
              "      <td>NaN</td>\n",
              "    </tr>\n",
              "    <tr>\n",
              "      <th>Migas</th>\n",
              "      <td>364.0</td>\n",
              "      <td>1476.156868</td>\n",
              "      <td>514.0</td>\n",
              "      <td>941.425</td>\n",
              "      <td>1231.65</td>\n",
              "      <td>1784.5</td>\n",
              "      <td>4091.6</td>\n",
              "      <td>760.348398</td>\n",
              "    </tr>\n",
              "    <tr>\n",
              "      <th>Non Migas</th>\n",
              "      <td>364.0</td>\n",
              "      <td>8634.573901</td>\n",
              "      <td>1903.2</td>\n",
              "      <td>3701.025</td>\n",
              "      <td>7972.6</td>\n",
              "      <td>12582.475</td>\n",
              "      <td>26175.6</td>\n",
              "      <td>5395.823388</td>\n",
              "    </tr>\n",
              "  </tbody>\n",
              "</table>\n",
              "</div>"
            ],
            "text/plain": [
              "           count                           mean                  min  \\\n",
              "Date         364  2008-02-15 08:02:38.241758208  1993-01-01 00:00:00   \n",
              "Migas      364.0                    1476.156868                514.0   \n",
              "Non Migas  364.0                    8634.573901               1903.2   \n",
              "\n",
              "                           25%                  50%                  75%  \\\n",
              "Date       2000-07-24 06:00:00  2008-02-15 12:00:00  2015-09-08 12:00:00   \n",
              "Migas                  941.425              1231.65               1784.5   \n",
              "Non Migas             3701.025               7972.6            12582.475   \n",
              "\n",
              "                           max          std  \n",
              "Date       2023-04-01 00:00:00          NaN  \n",
              "Migas                   4091.6   760.348398  \n",
              "Non Migas              26175.6  5395.823388  "
            ]
          },
          "execution_count": 25,
          "metadata": {},
          "output_type": "execute_result"
        }
      ],
      "source": [
        "df_ekspor.describe().transpose()"
      ]
    },
    {
      "cell_type": "code",
      "execution_count": 26,
      "metadata": {
        "colab": {
          "base_uri": "https://localhost:8080/"
        },
        "id": "K6KhYI9he7CQ",
        "outputId": "4560666e-4ad3-405c-d35b-eb9daea0d73a"
      },
      "outputs": [
        {
          "name": "stdout",
          "output_type": "stream",
          "text": [
            "<class 'pandas.core.frame.DataFrame'>\n",
            "RangeIndex: 5814 entries, 0 to 5813\n",
            "Data columns (total 2 columns):\n",
            " #   Column     Non-Null Count  Dtype         \n",
            "---  ------     --------------  -----         \n",
            " 0   Date       5814 non-null   datetime64[ns]\n",
            " 1   Crude Oil  5731 non-null   float64       \n",
            "dtypes: datetime64[ns](1), float64(1)\n",
            "memory usage: 91.0 KB\n"
          ]
        }
      ],
      "source": [
        "df_crude_oil.info()"
      ]
    },
    {
      "cell_type": "code",
      "execution_count": 27,
      "metadata": {
        "colab": {
          "base_uri": "https://localhost:8080/",
          "height": 81
        },
        "id": "c5t71KtZ9R4f",
        "outputId": "7b1bccb2-7385-4189-e4bf-147497333283"
      },
      "outputs": [
        {
          "data": {
            "text/html": [
              "<div>\n",
              "<style scoped>\n",
              "    .dataframe tbody tr th:only-of-type {\n",
              "        vertical-align: middle;\n",
              "    }\n",
              "\n",
              "    .dataframe tbody tr th {\n",
              "        vertical-align: top;\n",
              "    }\n",
              "\n",
              "    .dataframe thead th {\n",
              "        text-align: right;\n",
              "    }\n",
              "</style>\n",
              "<table border=\"1\" class=\"dataframe\">\n",
              "  <thead>\n",
              "    <tr style=\"text-align: right;\">\n",
              "      <th></th>\n",
              "      <th>count</th>\n",
              "      <th>mean</th>\n",
              "      <th>min</th>\n",
              "      <th>25%</th>\n",
              "      <th>50%</th>\n",
              "      <th>75%</th>\n",
              "      <th>max</th>\n",
              "      <th>std</th>\n",
              "    </tr>\n",
              "  </thead>\n",
              "  <tbody>\n",
              "    <tr>\n",
              "      <th>Date</th>\n",
              "      <td>5814</td>\n",
              "      <td>2011-12-27 00:06:56.099070976</td>\n",
              "      <td>2000-08-24 00:00:00</td>\n",
              "      <td>2006-03-21 06:00:00</td>\n",
              "      <td>2011-12-12 12:00:00</td>\n",
              "      <td>2017-09-20 18:00:00</td>\n",
              "      <td>2023-06-20 00:00:00</td>\n",
              "      <td>NaN</td>\n",
              "    </tr>\n",
              "    <tr>\n",
              "      <th>Crude Oil</th>\n",
              "      <td>5731.0</td>\n",
              "      <td>64.835772</td>\n",
              "      <td>13.69</td>\n",
              "      <td>45.405</td>\n",
              "      <td>62.25</td>\n",
              "      <td>84.83</td>\n",
              "      <td>147.27</td>\n",
              "      <td>25.898489</td>\n",
              "    </tr>\n",
              "  </tbody>\n",
              "</table>\n",
              "</div>"
            ],
            "text/plain": [
              "            count                           mean                  min  \\\n",
              "Date         5814  2011-12-27 00:06:56.099070976  2000-08-24 00:00:00   \n",
              "Crude Oil  5731.0                      64.835772                13.69   \n",
              "\n",
              "                           25%                  50%                  75%  \\\n",
              "Date       2006-03-21 06:00:00  2011-12-12 12:00:00  2017-09-20 18:00:00   \n",
              "Crude Oil               45.405                62.25                84.83   \n",
              "\n",
              "                           max        std  \n",
              "Date       2023-06-20 00:00:00        NaN  \n",
              "Crude Oil               147.27  25.898489  "
            ]
          },
          "execution_count": 27,
          "metadata": {},
          "output_type": "execute_result"
        }
      ],
      "source": [
        "df_crude_oil.describe().transpose()"
      ]
    },
    {
      "cell_type": "markdown",
      "metadata": {
        "id": "hEi323bEahk8"
      },
      "source": [
        "## Remove the 'Jumlah' column\n"
      ]
    },
    {
      "cell_type": "code",
      "execution_count": 28,
      "metadata": {
        "id": "Bp7NAw5vy6d1"
      },
      "outputs": [],
      "source": [
        "df_ekspor = df_ekspor.drop('Jumlah', axis=1)"
      ]
    },
    {
      "cell_type": "markdown",
      "metadata": {
        "id": "FaIo2DQnMAU1"
      },
      "source": [
        "## Group by month and year and calculate the average of the 'Value' column\n"
      ]
    },
    {
      "cell_type": "code",
      "execution_count": 29,
      "metadata": {
        "colab": {
          "base_uri": "https://localhost:8080/",
          "height": 423
        },
        "id": "BaTJo0QOL-9G",
        "outputId": "a7853d5f-9572-4886-9590-d05ea645c642"
      },
      "outputs": [
        {
          "name": "stderr",
          "output_type": "stream",
          "text": [
            "C:\\Users\\Bima\\AppData\\Local\\Temp\\ipykernel_4516\\2178719443.py:1: FutureWarning: 'M' is deprecated and will be removed in a future version, please use 'ME' instead.\n",
            "  df_avg = df_crude_oil.groupby([pd.Grouper(key='Date', freq='M')])['Crude Oil'].mean()\n"
          ]
        },
        {
          "data": {
            "text/html": [
              "<div>\n",
              "<style scoped>\n",
              "    .dataframe tbody tr th:only-of-type {\n",
              "        vertical-align: middle;\n",
              "    }\n",
              "\n",
              "    .dataframe tbody tr th {\n",
              "        vertical-align: top;\n",
              "    }\n",
              "\n",
              "    .dataframe thead th {\n",
              "        text-align: right;\n",
              "    }\n",
              "</style>\n",
              "<table border=\"1\" class=\"dataframe\">\n",
              "  <thead>\n",
              "    <tr style=\"text-align: right;\">\n",
              "      <th></th>\n",
              "      <th>Date</th>\n",
              "      <th>Crude Oil</th>\n",
              "    </tr>\n",
              "  </thead>\n",
              "  <tbody>\n",
              "    <tr>\n",
              "      <th>0</th>\n",
              "      <td>2000-08-01</td>\n",
              "      <td>32.898333</td>\n",
              "    </tr>\n",
              "    <tr>\n",
              "      <th>1</th>\n",
              "      <td>2000-09-01</td>\n",
              "      <td>34.549000</td>\n",
              "    </tr>\n",
              "    <tr>\n",
              "      <th>2</th>\n",
              "      <td>2000-10-01</td>\n",
              "      <td>33.470455</td>\n",
              "    </tr>\n",
              "    <tr>\n",
              "      <th>3</th>\n",
              "      <td>2000-11-01</td>\n",
              "      <td>34.653000</td>\n",
              "    </tr>\n",
              "    <tr>\n",
              "      <th>4</th>\n",
              "      <td>2000-12-01</td>\n",
              "      <td>29.183000</td>\n",
              "    </tr>\n",
              "    <tr>\n",
              "      <th>...</th>\n",
              "      <td>...</td>\n",
              "      <td>...</td>\n",
              "    </tr>\n",
              "    <tr>\n",
              "      <th>270</th>\n",
              "      <td>2023-02-01</td>\n",
              "      <td>78.069474</td>\n",
              "    </tr>\n",
              "    <tr>\n",
              "      <th>271</th>\n",
              "      <td>2023-03-01</td>\n",
              "      <td>74.659565</td>\n",
              "    </tr>\n",
              "    <tr>\n",
              "      <th>272</th>\n",
              "      <td>2023-04-01</td>\n",
              "      <td>80.506842</td>\n",
              "    </tr>\n",
              "    <tr>\n",
              "      <th>273</th>\n",
              "      <td>2023-05-01</td>\n",
              "      <td>73.065000</td>\n",
              "    </tr>\n",
              "    <tr>\n",
              "      <th>274</th>\n",
              "      <td>2023-06-01</td>\n",
              "      <td>71.881538</td>\n",
              "    </tr>\n",
              "  </tbody>\n",
              "</table>\n",
              "<p>275 rows × 2 columns</p>\n",
              "</div>"
            ],
            "text/plain": [
              "          Date  Crude Oil\n",
              "0   2000-08-01  32.898333\n",
              "1   2000-09-01  34.549000\n",
              "2   2000-10-01  33.470455\n",
              "3   2000-11-01  34.653000\n",
              "4   2000-12-01  29.183000\n",
              "..         ...        ...\n",
              "270 2023-02-01  78.069474\n",
              "271 2023-03-01  74.659565\n",
              "272 2023-04-01  80.506842\n",
              "273 2023-05-01  73.065000\n",
              "274 2023-06-01  71.881538\n",
              "\n",
              "[275 rows x 2 columns]"
            ]
          },
          "execution_count": 29,
          "metadata": {},
          "output_type": "execute_result"
        }
      ],
      "source": [
        "df_avg = df_crude_oil.groupby([pd.Grouper(key='Date', freq='M')])['Crude Oil'].mean()\n",
        "\n",
        "# Convert df_avg to a DataFrame\n",
        "df = pd.DataFrame(df_avg)\n",
        "\n",
        "# Set the index to the first day of each month\n",
        "df.index = df.index - pd.offsets.MonthBegin(1)\n",
        "\n",
        "# Reset the index of the resulting DataFrame\n",
        "df_crude_oil = df.reset_index()\n",
        "df_crude_oil"
      ]
    },
    {
      "cell_type": "markdown",
      "metadata": {
        "id": "-p0meUQGDPk4"
      },
      "source": [
        "## Merge the DataFrames\n"
      ]
    },
    {
      "cell_type": "code",
      "execution_count": 30,
      "metadata": {
        "colab": {
          "base_uri": "https://localhost:8080/",
          "height": 423
        },
        "id": "GH0Yt1oTDRXE",
        "outputId": "f497281e-aec2-4f13-be14-ff7834b20fcb"
      },
      "outputs": [
        {
          "data": {
            "text/html": [
              "<div>\n",
              "<style scoped>\n",
              "    .dataframe tbody tr th:only-of-type {\n",
              "        vertical-align: middle;\n",
              "    }\n",
              "\n",
              "    .dataframe tbody tr th {\n",
              "        vertical-align: top;\n",
              "    }\n",
              "\n",
              "    .dataframe thead th {\n",
              "        text-align: right;\n",
              "    }\n",
              "</style>\n",
              "<table border=\"1\" class=\"dataframe\">\n",
              "  <thead>\n",
              "    <tr style=\"text-align: right;\">\n",
              "      <th></th>\n",
              "      <th>Date</th>\n",
              "      <th>Migas</th>\n",
              "      <th>Non Migas</th>\n",
              "      <th>Crude Oil</th>\n",
              "    </tr>\n",
              "  </thead>\n",
              "  <tbody>\n",
              "    <tr>\n",
              "      <th>0</th>\n",
              "      <td>1993-01-01</td>\n",
              "      <td>864.3</td>\n",
              "      <td>2137.6</td>\n",
              "      <td>NaN</td>\n",
              "    </tr>\n",
              "    <tr>\n",
              "      <th>1</th>\n",
              "      <td>1993-02-01</td>\n",
              "      <td>767.5</td>\n",
              "      <td>2125.0</td>\n",
              "      <td>NaN</td>\n",
              "    </tr>\n",
              "    <tr>\n",
              "      <th>2</th>\n",
              "      <td>1993-03-01</td>\n",
              "      <td>892.2</td>\n",
              "      <td>2116.3</td>\n",
              "      <td>NaN</td>\n",
              "    </tr>\n",
              "    <tr>\n",
              "      <th>3</th>\n",
              "      <td>1993-04-01</td>\n",
              "      <td>744.0</td>\n",
              "      <td>2213.5</td>\n",
              "      <td>NaN</td>\n",
              "    </tr>\n",
              "    <tr>\n",
              "      <th>4</th>\n",
              "      <td>1993-05-01</td>\n",
              "      <td>888.3</td>\n",
              "      <td>2229.7</td>\n",
              "      <td>NaN</td>\n",
              "    </tr>\n",
              "    <tr>\n",
              "      <th>...</th>\n",
              "      <td>...</td>\n",
              "      <td>...</td>\n",
              "      <td>...</td>\n",
              "      <td>...</td>\n",
              "    </tr>\n",
              "    <tr>\n",
              "      <th>359</th>\n",
              "      <td>2022-12-01</td>\n",
              "      <td>1472.8</td>\n",
              "      <td>22355.0</td>\n",
              "      <td>78.330476</td>\n",
              "    </tr>\n",
              "    <tr>\n",
              "      <th>360</th>\n",
              "      <td>2023-01-01</td>\n",
              "      <td>1487.9</td>\n",
              "      <td>20835.9</td>\n",
              "      <td>79.818095</td>\n",
              "    </tr>\n",
              "    <tr>\n",
              "      <th>361</th>\n",
              "      <td>2023-02-01</td>\n",
              "      <td>1186.5</td>\n",
              "      <td>20134.8</td>\n",
              "      <td>78.069474</td>\n",
              "    </tr>\n",
              "    <tr>\n",
              "      <th>362</th>\n",
              "      <td>2023-03-01</td>\n",
              "      <td>1338.2</td>\n",
              "      <td>22077.8</td>\n",
              "      <td>74.659565</td>\n",
              "    </tr>\n",
              "    <tr>\n",
              "      <th>363</th>\n",
              "      <td>2023-04-01</td>\n",
              "      <td>1258.7</td>\n",
              "      <td>18025.4</td>\n",
              "      <td>80.506842</td>\n",
              "    </tr>\n",
              "  </tbody>\n",
              "</table>\n",
              "<p>364 rows × 4 columns</p>\n",
              "</div>"
            ],
            "text/plain": [
              "          Date   Migas  Non Migas  Crude Oil\n",
              "0   1993-01-01   864.3     2137.6        NaN\n",
              "1   1993-02-01   767.5     2125.0        NaN\n",
              "2   1993-03-01   892.2     2116.3        NaN\n",
              "3   1993-04-01   744.0     2213.5        NaN\n",
              "4   1993-05-01   888.3     2229.7        NaN\n",
              "..         ...     ...        ...        ...\n",
              "359 2022-12-01  1472.8    22355.0  78.330476\n",
              "360 2023-01-01  1487.9    20835.9  79.818095\n",
              "361 2023-02-01  1186.5    20134.8  78.069474\n",
              "362 2023-03-01  1338.2    22077.8  74.659565\n",
              "363 2023-04-01  1258.7    18025.4  80.506842\n",
              "\n",
              "[364 rows x 4 columns]"
            ]
          },
          "execution_count": 30,
          "metadata": {},
          "output_type": "execute_result"
        }
      ],
      "source": [
        "df = pd.merge(df_ekspor, df_crude_oil, on='Date', how='left')\n",
        "df"
      ]
    },
    {
      "cell_type": "markdown",
      "metadata": {
        "id": "i0XuruDHJSOW"
      },
      "source": [
        "## Filter rows where the year is greater than or equal to 2010"
      ]
    },
    {
      "cell_type": "code",
      "execution_count": 31,
      "metadata": {
        "id": "3Ds01hDFDVzg"
      },
      "outputs": [],
      "source": [
        "df = df[df['Date'].dt.year >= 2010]"
      ]
    },
    {
      "cell_type": "markdown",
      "metadata": {
        "id": "PnmQLF1V6e2X"
      },
      "source": [
        "## Set date column to Index"
      ]
    },
    {
      "cell_type": "code",
      "execution_count": 32,
      "metadata": {
        "id": "h7ht7-3r6KKg"
      },
      "outputs": [],
      "source": [
        "df.set_index(\"Date\",inplace=True)"
      ]
    },
    {
      "cell_type": "markdown",
      "metadata": {
        "id": "mnjnAcFcalOz"
      },
      "source": [
        "## Final DataFrame"
      ]
    },
    {
      "cell_type": "code",
      "execution_count": 33,
      "metadata": {
        "colab": {
          "base_uri": "https://localhost:8080/"
        },
        "id": "IOuka4zKy6d1",
        "outputId": "d9089cfa-cb5f-4f24-92c1-83e49b808a6e"
      },
      "outputs": [
        {
          "name": "stdout",
          "output_type": "stream",
          "text": [
            "<class 'pandas.core.frame.DataFrame'>\n",
            "DatetimeIndex: 160 entries, 2010-01-01 to 2023-04-01\n",
            "Data columns (total 3 columns):\n",
            " #   Column     Non-Null Count  Dtype  \n",
            "---  ------     --------------  -----  \n",
            " 0   Migas      160 non-null    float64\n",
            " 1   Non Migas  160 non-null    float64\n",
            " 2   Crude Oil  160 non-null    float64\n",
            "dtypes: float64(3)\n",
            "memory usage: 5.0 KB\n"
          ]
        }
      ],
      "source": [
        "df.info()"
      ]
    },
    {
      "cell_type": "code",
      "execution_count": 34,
      "metadata": {
        "colab": {
          "base_uri": "https://localhost:8080/",
          "height": 455
        },
        "id": "g_o6Fy0Xy6d2",
        "outputId": "07f99b7a-1179-4140-fb32-80c06c159e21"
      },
      "outputs": [
        {
          "data": {
            "text/html": [
              "<div>\n",
              "<style scoped>\n",
              "    .dataframe tbody tr th:only-of-type {\n",
              "        vertical-align: middle;\n",
              "    }\n",
              "\n",
              "    .dataframe tbody tr th {\n",
              "        vertical-align: top;\n",
              "    }\n",
              "\n",
              "    .dataframe thead th {\n",
              "        text-align: right;\n",
              "    }\n",
              "</style>\n",
              "<table border=\"1\" class=\"dataframe\">\n",
              "  <thead>\n",
              "    <tr style=\"text-align: right;\">\n",
              "      <th></th>\n",
              "      <th>Migas</th>\n",
              "      <th>Non Migas</th>\n",
              "      <th>Crude Oil</th>\n",
              "    </tr>\n",
              "    <tr>\n",
              "      <th>Date</th>\n",
              "      <th></th>\n",
              "      <th></th>\n",
              "      <th></th>\n",
              "    </tr>\n",
              "  </thead>\n",
              "  <tbody>\n",
              "    <tr>\n",
              "      <th>2010-01-01</th>\n",
              "      <td>2344.9</td>\n",
              "      <td>9251.0</td>\n",
              "      <td>79.416316</td>\n",
              "    </tr>\n",
              "    <tr>\n",
              "      <th>2010-02-01</th>\n",
              "      <td>2175.3</td>\n",
              "      <td>8991.2</td>\n",
              "      <td>77.392105</td>\n",
              "    </tr>\n",
              "    <tr>\n",
              "      <th>2010-03-01</th>\n",
              "      <td>2168.6</td>\n",
              "      <td>10605.8</td>\n",
              "      <td>82.084783</td>\n",
              "    </tr>\n",
              "    <tr>\n",
              "      <th>2010-04-01</th>\n",
              "      <td>2204.6</td>\n",
              "      <td>9830.6</td>\n",
              "      <td>85.359524</td>\n",
              "    </tr>\n",
              "    <tr>\n",
              "      <th>2010-05-01</th>\n",
              "      <td>2369.3</td>\n",
              "      <td>10249.9</td>\n",
              "      <td>76.016500</td>\n",
              "    </tr>\n",
              "    <tr>\n",
              "      <th>...</th>\n",
              "      <td>...</td>\n",
              "      <td>...</td>\n",
              "      <td>...</td>\n",
              "    </tr>\n",
              "    <tr>\n",
              "      <th>2022-12-01</th>\n",
              "      <td>1472.8</td>\n",
              "      <td>22355.0</td>\n",
              "      <td>78.330476</td>\n",
              "    </tr>\n",
              "    <tr>\n",
              "      <th>2023-01-01</th>\n",
              "      <td>1487.9</td>\n",
              "      <td>20835.9</td>\n",
              "      <td>79.818095</td>\n",
              "    </tr>\n",
              "    <tr>\n",
              "      <th>2023-02-01</th>\n",
              "      <td>1186.5</td>\n",
              "      <td>20134.8</td>\n",
              "      <td>78.069474</td>\n",
              "    </tr>\n",
              "    <tr>\n",
              "      <th>2023-03-01</th>\n",
              "      <td>1338.2</td>\n",
              "      <td>22077.8</td>\n",
              "      <td>74.659565</td>\n",
              "    </tr>\n",
              "    <tr>\n",
              "      <th>2023-04-01</th>\n",
              "      <td>1258.7</td>\n",
              "      <td>18025.4</td>\n",
              "      <td>80.506842</td>\n",
              "    </tr>\n",
              "  </tbody>\n",
              "</table>\n",
              "<p>160 rows × 3 columns</p>\n",
              "</div>"
            ],
            "text/plain": [
              "             Migas  Non Migas  Crude Oil\n",
              "Date                                    \n",
              "2010-01-01  2344.9     9251.0  79.416316\n",
              "2010-02-01  2175.3     8991.2  77.392105\n",
              "2010-03-01  2168.6    10605.8  82.084783\n",
              "2010-04-01  2204.6     9830.6  85.359524\n",
              "2010-05-01  2369.3    10249.9  76.016500\n",
              "...            ...        ...        ...\n",
              "2022-12-01  1472.8    22355.0  78.330476\n",
              "2023-01-01  1487.9    20835.9  79.818095\n",
              "2023-02-01  1186.5    20134.8  78.069474\n",
              "2023-03-01  1338.2    22077.8  74.659565\n",
              "2023-04-01  1258.7    18025.4  80.506842\n",
              "\n",
              "[160 rows x 3 columns]"
            ]
          },
          "execution_count": 34,
          "metadata": {},
          "output_type": "execute_result"
        }
      ],
      "source": [
        "df"
      ]
    },
    {
      "cell_type": "code",
      "execution_count": 35,
      "metadata": {
        "id": "XpdNLhQUDigm"
      },
      "outputs": [],
      "source": [
        "df.to_csv('1. df.csv')"
      ]
    },
    {
      "cell_type": "markdown",
      "metadata": {
        "id": "KgjjVvmxf4aj"
      },
      "source": [
        "# VAR Model"
      ]
    },
    {
      "cell_type": "markdown",
      "metadata": {
        "id": "K_MG1IHz6Fby"
      },
      "source": [
        "## Check out Dickey Fuller"
      ]
    },
    {
      "cell_type": "code",
      "execution_count": 37,
      "metadata": {
        "colab": {
          "base_uri": "https://localhost:8080/"
        },
        "id": "BRfFy4zE5SUX",
        "outputId": "6605a049-dcc9-4fc1-dda0-4c6aca753dad"
      },
      "outputs": [
        {
          "name": "stdout",
          "output_type": "stream",
          "text": [
            "Migas\n",
            "ADF Statistic: -11.43470510654337\n",
            "p-value: 6.389793835591053e-21\n",
            "-----------------------------------\n",
            "Non Migas\n",
            "ADF Statistic: -2.0364444598573583\n",
            "p-value: 0.2708255365438407\n",
            "-----------------------------------\n",
            "Crude Oil\n",
            "ADF Statistic: -8.435751792803766\n",
            "p-value: 1.8187112512102593e-13\n",
            "-----------------------------------\n"
          ]
        }
      ],
      "source": [
        "from statsmodels.tsa.stattools import adfuller\n",
        "\n",
        "#apply first order differencing to get p-value<0.05\n",
        "for col in df.columns:\n",
        "  ad_fuller_result = adfuller(df[col].diff()[1:])\n",
        "  print(col)\n",
        "  print(f'ADF Statistic: {ad_fuller_result[0]}')\n",
        "  print(f'p-value: {ad_fuller_result[1]}')\n",
        "  print('-----------------------------------')"
      ]
    },
    {
      "cell_type": "markdown",
      "metadata": {
        "id": "IrssVJ4I6ZpK"
      },
      "source": [
        "## Split training and testing"
      ]
    },
    {
      "cell_type": "code",
      "execution_count": 38,
      "metadata": {
        "colab": {
          "base_uri": "https://localhost:8080/"
        },
        "id": "dVIwq09O6gbY",
        "outputId": "f167a5df-7cba-45cd-c728-c43203c49d99"
      },
      "outputs": [
        {
          "name": "stdout",
          "output_type": "stream",
          "text": [
            "<class 'pandas.core.frame.DataFrame'>\n",
            "DatetimeIndex: 160 entries, 2010-01-01 to 2023-04-01\n",
            "Data columns (total 3 columns):\n",
            " #   Column     Non-Null Count  Dtype  \n",
            "---  ------     --------------  -----  \n",
            " 0   Migas      160 non-null    float64\n",
            " 1   Non Migas  160 non-null    float64\n",
            " 2   Crude Oil  160 non-null    float64\n",
            "dtypes: float64(3)\n",
            "memory usage: 5.0 KB\n"
          ]
        }
      ],
      "source": [
        "df.info()"
      ]
    },
    {
      "cell_type": "code",
      "execution_count": 39,
      "metadata": {
        "id": "-EZcsXjM6M5v"
      },
      "outputs": [],
      "source": [
        "train_end = '2022-04-01'\n",
        "test_end = '2023-04-01'\n",
        "train_df,test_df = df, df[train_end:]"
      ]
    },
    {
      "cell_type": "code",
      "execution_count": 40,
      "metadata": {
        "colab": {
          "base_uri": "https://localhost:8080/"
        },
        "id": "geD_-Wiu6nkp",
        "outputId": "89152d34-0baf-45ec-898d-700b1edd23fb"
      },
      "outputs": [
        {
          "name": "stdout",
          "output_type": "stream",
          "text": [
            "(160, 3)\n",
            "(13, 3)\n"
          ]
        }
      ],
      "source": [
        "print(train_df.shape)\n",
        "print(test_df.shape)"
      ]
    },
    {
      "cell_type": "code",
      "execution_count": 41,
      "metadata": {
        "colab": {
          "base_uri": "https://localhost:8080/",
          "height": 455
        },
        "id": "QJof60ENy6eE",
        "outputId": "6312295c-2ad6-4458-de14-c30e10ba1f99"
      },
      "outputs": [
        {
          "data": {
            "text/html": [
              "<div>\n",
              "<style scoped>\n",
              "    .dataframe tbody tr th:only-of-type {\n",
              "        vertical-align: middle;\n",
              "    }\n",
              "\n",
              "    .dataframe tbody tr th {\n",
              "        vertical-align: top;\n",
              "    }\n",
              "\n",
              "    .dataframe thead th {\n",
              "        text-align: right;\n",
              "    }\n",
              "</style>\n",
              "<table border=\"1\" class=\"dataframe\">\n",
              "  <thead>\n",
              "    <tr style=\"text-align: right;\">\n",
              "      <th></th>\n",
              "      <th>Migas</th>\n",
              "      <th>Non Migas</th>\n",
              "      <th>Crude Oil</th>\n",
              "    </tr>\n",
              "    <tr>\n",
              "      <th>Date</th>\n",
              "      <th></th>\n",
              "      <th></th>\n",
              "      <th></th>\n",
              "    </tr>\n",
              "  </thead>\n",
              "  <tbody>\n",
              "    <tr>\n",
              "      <th>2010-01-01</th>\n",
              "      <td>2344.9</td>\n",
              "      <td>9251.0</td>\n",
              "      <td>79.416316</td>\n",
              "    </tr>\n",
              "    <tr>\n",
              "      <th>2010-02-01</th>\n",
              "      <td>2175.3</td>\n",
              "      <td>8991.2</td>\n",
              "      <td>77.392105</td>\n",
              "    </tr>\n",
              "    <tr>\n",
              "      <th>2010-03-01</th>\n",
              "      <td>2168.6</td>\n",
              "      <td>10605.8</td>\n",
              "      <td>82.084783</td>\n",
              "    </tr>\n",
              "    <tr>\n",
              "      <th>2010-04-01</th>\n",
              "      <td>2204.6</td>\n",
              "      <td>9830.6</td>\n",
              "      <td>85.359524</td>\n",
              "    </tr>\n",
              "    <tr>\n",
              "      <th>2010-05-01</th>\n",
              "      <td>2369.3</td>\n",
              "      <td>10249.9</td>\n",
              "      <td>76.016500</td>\n",
              "    </tr>\n",
              "    <tr>\n",
              "      <th>...</th>\n",
              "      <td>...</td>\n",
              "      <td>...</td>\n",
              "      <td>...</td>\n",
              "    </tr>\n",
              "    <tr>\n",
              "      <th>2022-12-01</th>\n",
              "      <td>1472.8</td>\n",
              "      <td>22355.0</td>\n",
              "      <td>78.330476</td>\n",
              "    </tr>\n",
              "    <tr>\n",
              "      <th>2023-01-01</th>\n",
              "      <td>1487.9</td>\n",
              "      <td>20835.9</td>\n",
              "      <td>79.818095</td>\n",
              "    </tr>\n",
              "    <tr>\n",
              "      <th>2023-02-01</th>\n",
              "      <td>1186.5</td>\n",
              "      <td>20134.8</td>\n",
              "      <td>78.069474</td>\n",
              "    </tr>\n",
              "    <tr>\n",
              "      <th>2023-03-01</th>\n",
              "      <td>1338.2</td>\n",
              "      <td>22077.8</td>\n",
              "      <td>74.659565</td>\n",
              "    </tr>\n",
              "    <tr>\n",
              "      <th>2023-04-01</th>\n",
              "      <td>1258.7</td>\n",
              "      <td>18025.4</td>\n",
              "      <td>80.506842</td>\n",
              "    </tr>\n",
              "  </tbody>\n",
              "</table>\n",
              "<p>160 rows × 3 columns</p>\n",
              "</div>"
            ],
            "text/plain": [
              "             Migas  Non Migas  Crude Oil\n",
              "Date                                    \n",
              "2010-01-01  2344.9     9251.0  79.416316\n",
              "2010-02-01  2175.3     8991.2  77.392105\n",
              "2010-03-01  2168.6    10605.8  82.084783\n",
              "2010-04-01  2204.6     9830.6  85.359524\n",
              "2010-05-01  2369.3    10249.9  76.016500\n",
              "...            ...        ...        ...\n",
              "2022-12-01  1472.8    22355.0  78.330476\n",
              "2023-01-01  1487.9    20835.9  79.818095\n",
              "2023-02-01  1186.5    20134.8  78.069474\n",
              "2023-03-01  1338.2    22077.8  74.659565\n",
              "2023-04-01  1258.7    18025.4  80.506842\n",
              "\n",
              "[160 rows x 3 columns]"
            ]
          },
          "execution_count": 41,
          "metadata": {},
          "output_type": "execute_result"
        }
      ],
      "source": [
        "train_df"
      ]
    },
    {
      "cell_type": "code",
      "execution_count": 42,
      "metadata": {
        "id": "k915xWw6fxva"
      },
      "outputs": [],
      "source": [
        "train_df.to_csv('2. train_df.csv')"
      ]
    },
    {
      "cell_type": "code",
      "execution_count": 43,
      "metadata": {
        "colab": {
          "base_uri": "https://localhost:8080/",
          "height": 488
        },
        "id": "HkIR1TZhy6eE",
        "outputId": "0d6f67c3-71a8-4d12-e57d-f9f207a8cd58"
      },
      "outputs": [
        {
          "data": {
            "text/html": [
              "<div>\n",
              "<style scoped>\n",
              "    .dataframe tbody tr th:only-of-type {\n",
              "        vertical-align: middle;\n",
              "    }\n",
              "\n",
              "    .dataframe tbody tr th {\n",
              "        vertical-align: top;\n",
              "    }\n",
              "\n",
              "    .dataframe thead th {\n",
              "        text-align: right;\n",
              "    }\n",
              "</style>\n",
              "<table border=\"1\" class=\"dataframe\">\n",
              "  <thead>\n",
              "    <tr style=\"text-align: right;\">\n",
              "      <th></th>\n",
              "      <th>Migas</th>\n",
              "      <th>Non Migas</th>\n",
              "      <th>Crude Oil</th>\n",
              "    </tr>\n",
              "    <tr>\n",
              "      <th>Date</th>\n",
              "      <th></th>\n",
              "      <th></th>\n",
              "      <th></th>\n",
              "    </tr>\n",
              "  </thead>\n",
              "  <tbody>\n",
              "    <tr>\n",
              "      <th>2022-04-01</th>\n",
              "      <td>1433.3</td>\n",
              "      <td>25889.0</td>\n",
              "      <td>103.919000</td>\n",
              "    </tr>\n",
              "    <tr>\n",
              "      <th>2022-05-01</th>\n",
              "      <td>1496.1</td>\n",
              "      <td>20013.7</td>\n",
              "      <td>111.415238</td>\n",
              "    </tr>\n",
              "    <tr>\n",
              "      <th>2022-06-01</th>\n",
              "      <td>1549.3</td>\n",
              "      <td>24600.8</td>\n",
              "      <td>116.580000</td>\n",
              "    </tr>\n",
              "    <tr>\n",
              "      <th>2022-07-01</th>\n",
              "      <td>1367.9</td>\n",
              "      <td>24195.3</td>\n",
              "      <td>102.051000</td>\n",
              "    </tr>\n",
              "    <tr>\n",
              "      <th>2022-08-01</th>\n",
              "      <td>1686.5</td>\n",
              "      <td>26175.6</td>\n",
              "      <td>93.654783</td>\n",
              "    </tr>\n",
              "    <tr>\n",
              "      <th>2022-09-01</th>\n",
              "      <td>1310.5</td>\n",
              "      <td>23466.7</td>\n",
              "      <td>86.198095</td>\n",
              "    </tr>\n",
              "    <tr>\n",
              "      <th>2022-10-01</th>\n",
              "      <td>1288.1</td>\n",
              "      <td>23440.3</td>\n",
              "      <td>88.488095</td>\n",
              "    </tr>\n",
              "    <tr>\n",
              "      <th>2022-11-01</th>\n",
              "      <td>1114.1</td>\n",
              "      <td>22979.9</td>\n",
              "      <td>86.307143</td>\n",
              "    </tr>\n",
              "    <tr>\n",
              "      <th>2022-12-01</th>\n",
              "      <td>1472.8</td>\n",
              "      <td>22355.0</td>\n",
              "      <td>78.330476</td>\n",
              "    </tr>\n",
              "    <tr>\n",
              "      <th>2023-01-01</th>\n",
              "      <td>1487.9</td>\n",
              "      <td>20835.9</td>\n",
              "      <td>79.818095</td>\n",
              "    </tr>\n",
              "    <tr>\n",
              "      <th>2023-02-01</th>\n",
              "      <td>1186.5</td>\n",
              "      <td>20134.8</td>\n",
              "      <td>78.069474</td>\n",
              "    </tr>\n",
              "    <tr>\n",
              "      <th>2023-03-01</th>\n",
              "      <td>1338.2</td>\n",
              "      <td>22077.8</td>\n",
              "      <td>74.659565</td>\n",
              "    </tr>\n",
              "    <tr>\n",
              "      <th>2023-04-01</th>\n",
              "      <td>1258.7</td>\n",
              "      <td>18025.4</td>\n",
              "      <td>80.506842</td>\n",
              "    </tr>\n",
              "  </tbody>\n",
              "</table>\n",
              "</div>"
            ],
            "text/plain": [
              "             Migas  Non Migas   Crude Oil\n",
              "Date                                     \n",
              "2022-04-01  1433.3    25889.0  103.919000\n",
              "2022-05-01  1496.1    20013.7  111.415238\n",
              "2022-06-01  1549.3    24600.8  116.580000\n",
              "2022-07-01  1367.9    24195.3  102.051000\n",
              "2022-08-01  1686.5    26175.6   93.654783\n",
              "2022-09-01  1310.5    23466.7   86.198095\n",
              "2022-10-01  1288.1    23440.3   88.488095\n",
              "2022-11-01  1114.1    22979.9   86.307143\n",
              "2022-12-01  1472.8    22355.0   78.330476\n",
              "2023-01-01  1487.9    20835.9   79.818095\n",
              "2023-02-01  1186.5    20134.8   78.069474\n",
              "2023-03-01  1338.2    22077.8   74.659565\n",
              "2023-04-01  1258.7    18025.4   80.506842"
            ]
          },
          "execution_count": 43,
          "metadata": {},
          "output_type": "execute_result"
        }
      ],
      "source": [
        "test_df"
      ]
    },
    {
      "cell_type": "code",
      "execution_count": 44,
      "metadata": {
        "id": "SYhgxnIMfy3p"
      },
      "outputs": [],
      "source": [
        "test_df.to_csv('3. test_df.csv')"
      ]
    },
    {
      "cell_type": "code",
      "execution_count": 45,
      "metadata": {
        "colab": {
          "base_uri": "https://localhost:8080/",
          "height": 564
        },
        "id": "aWz-XwHWfzro",
        "outputId": "314a3d18-a946-4de4-9121-552f63bd2230"
      },
      "outputs": [
        {
          "data": {
            "image/png": "[encoded data removed]",
            "text/plain": [
              "<Figure size 1200x600 with 1 Axes>"
            ]
          },
          "metadata": {},
          "output_type": "display_data"
        }
      ],
      "source": [
        "# Create the plot\n",
        "fig, ax = plt.subplots(figsize=(12, 6))\n",
        "train_df.plot(ax=ax, label='Train')\n",
        "test_df.plot(ax=ax, label='Test')\n",
        "\n",
        "# Add labels and title to the plot\n",
        "plt.xlabel('X-axis label')\n",
        "plt.ylabel('Y-axis label')\n",
        "plt.title('Plot of Train and Test')\n",
        "\n",
        "# Add legend\n",
        "plt.legend()\n",
        "\n",
        "# Display the plot\n",
        "plt.show()"
      ]
    },
    {
      "cell_type": "markdown",
      "metadata": {
        "id": "i9hmORgF7ZDr"
      },
      "source": [
        "## Find out number of lags to consider\n"
      ]
    },
    {
      "cell_type": "code",
      "execution_count": 46,
      "metadata": {
        "colab": {
          "base_uri": "https://localhost:8080/"
        },
        "id": "nP_R52oT8Gm_",
        "outputId": "9ecfd6cc-2929-45af-d64e-12e3b70fdd13"
      },
      "outputs": [
        {
          "name": "stdout",
          "output_type": "stream",
          "text": [
            " VAR Order Selection (* highlights the minimums)  \n",
            "==================================================\n",
            "       AIC         BIC         FPE         HQIC   \n",
            "--------------------------------------------------\n",
            "0        29.35       29.41   5.580e+12       29.37\n",
            "1        28.85      29.09*   3.390e+12      28.95*\n",
            "2        28.82       29.24   3.269e+12       28.99\n",
            "3       28.79*       29.39  3.180e+12*       29.03\n",
            "4        28.83       29.62   3.336e+12       29.15\n",
            "5        28.81       29.78   3.255e+12       29.20\n",
            "6        28.88       30.03   3.497e+12       29.35\n",
            "7        28.94       30.27   3.725e+12       29.48\n",
            "8        28.98       30.49   3.898e+12       29.60\n",
            "9        29.01       30.70   4.021e+12       29.70\n",
            "10       29.02       30.89   4.066e+12       29.78\n",
            "--------------------------------------------------\n"
          ]
        },
        {
          "name": "stderr",
          "output_type": "stream",
          "text": [
            "c:\\Users\\Bima\\AppData\\Local\\Programs\\Python\\Python312\\Lib\\site-packages\\statsmodels\\tsa\\base\\tsa_model.py:473: ValueWarning: No frequency information was provided, so inferred frequency MS will be used.\n",
            "  self._init_dates(dates, freq)\n"
          ]
        }
      ],
      "source": [
        "from statsmodels.tsa.api import VAR\n",
        "\n",
        "model = VAR(train_df.diff()[1:])\n",
        "sorted_order=model.select_order(maxlags=10)\n",
        "print(sorted_order.summary())"
      ]
    },
    {
      "cell_type": "markdown",
      "metadata": {
        "id": "_DWtX8Oaawzr"
      },
      "source": [
        "## Modelling"
      ]
    },
    {
      "cell_type": "code",
      "execution_count": 47,
      "metadata": {
        "id": "uPCfPD0y8Kbf"
      },
      "outputs": [],
      "source": [
        "from statsmodels.tsa.statespace.varmax import VARMAX\n",
        "\n",
        "# var_model=VARMAX(train_df,order=(9,10),enforce_stationarity=True)\n",
        "# fitted_model=var_model.fit(disp=False)"
      ]
    },
    {
      "cell_type": "code",
      "execution_count": 48,
      "metadata": {
        "id": "mpv6HH9zAg6m"
      },
      "outputs": [],
      "source": [
        "# print(fitted_model.summary())"
      ]
    },
    {
      "cell_type": "markdown",
      "metadata": {
        "id": "N2rex_HLFHmG"
      },
      "source": [
        "## Deploy models"
      ]
    },
    {
      "cell_type": "code",
      "execution_count": 50,
      "metadata": {
        "id": "ZyoC0XGKCmpZ"
      },
      "outputs": [],
      "source": [
        "import joblib"
      ]
    },
    {
      "cell_type": "code",
      "execution_count": 51,
      "metadata": {
        "id": "6K8tParIAmXG"
      },
      "outputs": [],
      "source": [
        "# # Save the model to a file\n",
        "# joblib.dump(fitted_model, 'Model/ekspor_var_model.pkl')"
      ]
    },
    {
      "cell_type": "code",
      "execution_count": 55,
      "metadata": {
        "id": "MBHHW333Ah2d"
      },
      "outputs": [],
      "source": [
        "# Load the model from the file\n",
        "fitted_model = joblib.load('Model/ekspor_var_model.pkl')"
      ]
    },
    {
      "cell_type": "markdown",
      "metadata": {
        "id": "OGgELkIMgAYo"
      },
      "source": [
        "## Test data prediction"
      ]
    },
    {
      "cell_type": "code",
      "execution_count": 56,
      "metadata": {
        "colab": {
          "base_uri": "https://localhost:8080/",
          "height": 457
        },
        "id": "wttTK6zU8Ntg",
        "outputId": "63df0c5c-8034-4296-b17c-9ad871160717"
      },
      "outputs": [
        {
          "data": {
            "text/html": [
              "<div>\n",
              "<style scoped>\n",
              "    .dataframe tbody tr th:only-of-type {\n",
              "        vertical-align: middle;\n",
              "    }\n",
              "\n",
              "    .dataframe tbody tr th {\n",
              "        vertical-align: top;\n",
              "    }\n",
              "\n",
              "    .dataframe thead th {\n",
              "        text-align: right;\n",
              "    }\n",
              "</style>\n",
              "<table border=\"1\" class=\"dataframe\">\n",
              "  <thead>\n",
              "    <tr style=\"text-align: right;\">\n",
              "      <th></th>\n",
              "      <th>Migas Prediction</th>\n",
              "      <th>Non Migas Prediction</th>\n",
              "      <th>Crude Oil Prediction</th>\n",
              "    </tr>\n",
              "  </thead>\n",
              "  <tbody>\n",
              "    <tr>\n",
              "      <th>2022-04-01</th>\n",
              "      <td>1409.064714</td>\n",
              "      <td>23608.097071</td>\n",
              "      <td>110.916940</td>\n",
              "    </tr>\n",
              "    <tr>\n",
              "      <th>2022-05-01</th>\n",
              "      <td>1654.173389</td>\n",
              "      <td>21833.664759</td>\n",
              "      <td>104.065979</td>\n",
              "    </tr>\n",
              "    <tr>\n",
              "      <th>2022-06-01</th>\n",
              "      <td>1652.351209</td>\n",
              "      <td>22603.517233</td>\n",
              "      <td>117.455411</td>\n",
              "    </tr>\n",
              "    <tr>\n",
              "      <th>2022-07-01</th>\n",
              "      <td>1633.331048</td>\n",
              "      <td>24346.415066</td>\n",
              "      <td>110.260038</td>\n",
              "    </tr>\n",
              "    <tr>\n",
              "      <th>2022-08-01</th>\n",
              "      <td>1666.327576</td>\n",
              "      <td>24891.851658</td>\n",
              "      <td>94.073991</td>\n",
              "    </tr>\n",
              "    <tr>\n",
              "      <th>2022-09-01</th>\n",
              "      <td>1373.346635</td>\n",
              "      <td>22869.303081</td>\n",
              "      <td>92.424393</td>\n",
              "    </tr>\n",
              "    <tr>\n",
              "      <th>2022-10-01</th>\n",
              "      <td>1214.272397</td>\n",
              "      <td>23109.748765</td>\n",
              "      <td>89.793465</td>\n",
              "    </tr>\n",
              "    <tr>\n",
              "      <th>2022-11-01</th>\n",
              "      <td>1166.565744</td>\n",
              "      <td>23589.725277</td>\n",
              "      <td>88.042017</td>\n",
              "    </tr>\n",
              "    <tr>\n",
              "      <th>2022-12-01</th>\n",
              "      <td>1266.065111</td>\n",
              "      <td>23237.104638</td>\n",
              "      <td>82.360608</td>\n",
              "    </tr>\n",
              "    <tr>\n",
              "      <th>2023-01-01</th>\n",
              "      <td>1432.623027</td>\n",
              "      <td>21314.956234</td>\n",
              "      <td>77.390809</td>\n",
              "    </tr>\n",
              "    <tr>\n",
              "      <th>2023-02-01</th>\n",
              "      <td>1036.071804</td>\n",
              "      <td>21312.160192</td>\n",
              "      <td>82.298222</td>\n",
              "    </tr>\n",
              "    <tr>\n",
              "      <th>2023-03-01</th>\n",
              "      <td>1458.823055</td>\n",
              "      <td>21270.784193</td>\n",
              "      <td>78.897343</td>\n",
              "    </tr>\n",
              "    <tr>\n",
              "      <th>2023-04-01</th>\n",
              "      <td>1053.462429</td>\n",
              "      <td>19949.815190</td>\n",
              "      <td>74.985542</td>\n",
              "    </tr>\n",
              "  </tbody>\n",
              "</table>\n",
              "</div>"
            ],
            "text/plain": [
              "            Migas Prediction  Non Migas Prediction  Crude Oil Prediction\n",
              "2022-04-01       1409.064714          23608.097071            110.916940\n",
              "2022-05-01       1654.173389          21833.664759            104.065979\n",
              "2022-06-01       1652.351209          22603.517233            117.455411\n",
              "2022-07-01       1633.331048          24346.415066            110.260038\n",
              "2022-08-01       1666.327576          24891.851658             94.073991\n",
              "2022-09-01       1373.346635          22869.303081             92.424393\n",
              "2022-10-01       1214.272397          23109.748765             89.793465\n",
              "2022-11-01       1166.565744          23589.725277             88.042017\n",
              "2022-12-01       1266.065111          23237.104638             82.360608\n",
              "2023-01-01       1432.623027          21314.956234             77.390809\n",
              "2023-02-01       1036.071804          21312.160192             82.298222\n",
              "2023-03-01       1458.823055          21270.784193             78.897343\n",
              "2023-04-01       1053.462429          19949.815190             74.985542"
            ]
          },
          "execution_count": 56,
          "metadata": {},
          "output_type": "execute_result"
        }
      ],
      "source": [
        "predict=fitted_model.get_prediction(start=len(train_df)-len(test_df),end=len(train_df)-1)\n",
        "predictions=predict.predicted_mean\n",
        "predictions.columns=['Migas Prediction', 'Non Migas Prediction', 'Crude Oil Prediction']\n",
        "predictions=predictions.abs()\n",
        "predictions"
      ]
    },
    {
      "cell_type": "code",
      "execution_count": 57,
      "metadata": {
        "id": "INjRdEbagDmp"
      },
      "outputs": [],
      "source": [
        "predictions.to_csv('4. predictions.csv')"
      ]
    },
    {
      "cell_type": "code",
      "execution_count": 58,
      "metadata": {
        "colab": {
          "base_uri": "https://localhost:8080/",
          "height": 556
        },
        "id": "i_WYtq3dy6eF",
        "outputId": "d0da6477-535a-4460-9737-6dc4f2cfb11d"
      },
      "outputs": [
        {
          "data": {
            "text/plain": [
              "<Axes: >"
            ]
          },
          "execution_count": 58,
          "metadata": {},
          "output_type": "execute_result"
        },
        {
          "data": {
            "image/png": "[encoded data removed]",
            "text/plain": [
              "<Figure size 1200x600 with 1 Axes>"
            ]
          },
          "metadata": {},
          "output_type": "display_data"
        }
      ],
      "source": [
        "predictions.plot(figsize=(12,6), grid=True)"
      ]
    },
    {
      "cell_type": "code",
      "execution_count": 59,
      "metadata": {
        "colab": {
          "base_uri": "https://localhost:8080/",
          "height": 580
        },
        "id": "UzeLtWiyy6eG",
        "outputId": "eb29dd39-2bf1-40bf-eb67-e5270e93fd6d"
      },
      "outputs": [
        {
          "data": {
            "image/png": "[encoded data removed]",
            "text/plain": [
              "<Figure size 1200x600 with 1 Axes>"
            ]
          },
          "metadata": {},
          "output_type": "display_data"
        }
      ],
      "source": [
        "# Create the plot\n",
        "fig, ax = plt.subplots(figsize=(12, 6))\n",
        "test_df.plot(ax=ax, linestyle='dashed', marker='o', label='DataFrame 1')\n",
        "predictions.plot(ax=ax, marker='o', label='DataFrame 2')\n",
        "\n",
        "# Add labels and title to the plot\n",
        "plt.xlabel('X-axis label')\n",
        "plt.ylabel('Y-axis label')\n",
        "plt.title('Plot of Test Data and Predictions')\n",
        "\n",
        "# Add legend\n",
        "plt.legend()\n",
        "\n",
        "# Display the plot\n",
        "plt.show()"
      ]
    },
    {
      "cell_type": "code",
      "execution_count": 60,
      "metadata": {
        "colab": {
          "base_uri": "https://localhost:8080/",
          "height": 488
        },
        "id": "q-Rtt8Jhy6eG",
        "outputId": "28afb071-07ac-4af4-90a2-5de05a6d888c"
      },
      "outputs": [
        {
          "data": {
            "text/html": [
              "<div>\n",
              "<style scoped>\n",
              "    .dataframe tbody tr th:only-of-type {\n",
              "        vertical-align: middle;\n",
              "    }\n",
              "\n",
              "    .dataframe tbody tr th {\n",
              "        vertical-align: top;\n",
              "    }\n",
              "\n",
              "    .dataframe thead th {\n",
              "        text-align: right;\n",
              "    }\n",
              "</style>\n",
              "<table border=\"1\" class=\"dataframe\">\n",
              "  <thead>\n",
              "    <tr style=\"text-align: right;\">\n",
              "      <th></th>\n",
              "      <th>Migas</th>\n",
              "      <th>Non Migas</th>\n",
              "      <th>Crude Oil</th>\n",
              "    </tr>\n",
              "    <tr>\n",
              "      <th>Date</th>\n",
              "      <th></th>\n",
              "      <th></th>\n",
              "      <th></th>\n",
              "    </tr>\n",
              "  </thead>\n",
              "  <tbody>\n",
              "    <tr>\n",
              "      <th>2022-04-01</th>\n",
              "      <td>1433.3</td>\n",
              "      <td>25889.0</td>\n",
              "      <td>103.919000</td>\n",
              "    </tr>\n",
              "    <tr>\n",
              "      <th>2022-05-01</th>\n",
              "      <td>1496.1</td>\n",
              "      <td>20013.7</td>\n",
              "      <td>111.415238</td>\n",
              "    </tr>\n",
              "    <tr>\n",
              "      <th>2022-06-01</th>\n",
              "      <td>1549.3</td>\n",
              "      <td>24600.8</td>\n",
              "      <td>116.580000</td>\n",
              "    </tr>\n",
              "    <tr>\n",
              "      <th>2022-07-01</th>\n",
              "      <td>1367.9</td>\n",
              "      <td>24195.3</td>\n",
              "      <td>102.051000</td>\n",
              "    </tr>\n",
              "    <tr>\n",
              "      <th>2022-08-01</th>\n",
              "      <td>1686.5</td>\n",
              "      <td>26175.6</td>\n",
              "      <td>93.654783</td>\n",
              "    </tr>\n",
              "    <tr>\n",
              "      <th>2022-09-01</th>\n",
              "      <td>1310.5</td>\n",
              "      <td>23466.7</td>\n",
              "      <td>86.198095</td>\n",
              "    </tr>\n",
              "    <tr>\n",
              "      <th>2022-10-01</th>\n",
              "      <td>1288.1</td>\n",
              "      <td>23440.3</td>\n",
              "      <td>88.488095</td>\n",
              "    </tr>\n",
              "    <tr>\n",
              "      <th>2022-11-01</th>\n",
              "      <td>1114.1</td>\n",
              "      <td>22979.9</td>\n",
              "      <td>86.307143</td>\n",
              "    </tr>\n",
              "    <tr>\n",
              "      <th>2022-12-01</th>\n",
              "      <td>1472.8</td>\n",
              "      <td>22355.0</td>\n",
              "      <td>78.330476</td>\n",
              "    </tr>\n",
              "    <tr>\n",
              "      <th>2023-01-01</th>\n",
              "      <td>1487.9</td>\n",
              "      <td>20835.9</td>\n",
              "      <td>79.818095</td>\n",
              "    </tr>\n",
              "    <tr>\n",
              "      <th>2023-02-01</th>\n",
              "      <td>1186.5</td>\n",
              "      <td>20134.8</td>\n",
              "      <td>78.069474</td>\n",
              "    </tr>\n",
              "    <tr>\n",
              "      <th>2023-03-01</th>\n",
              "      <td>1338.2</td>\n",
              "      <td>22077.8</td>\n",
              "      <td>74.659565</td>\n",
              "    </tr>\n",
              "    <tr>\n",
              "      <th>2023-04-01</th>\n",
              "      <td>1258.7</td>\n",
              "      <td>18025.4</td>\n",
              "      <td>80.506842</td>\n",
              "    </tr>\n",
              "  </tbody>\n",
              "</table>\n",
              "</div>"
            ],
            "text/plain": [
              "             Migas  Non Migas   Crude Oil\n",
              "Date                                     \n",
              "2022-04-01  1433.3    25889.0  103.919000\n",
              "2022-05-01  1496.1    20013.7  111.415238\n",
              "2022-06-01  1549.3    24600.8  116.580000\n",
              "2022-07-01  1367.9    24195.3  102.051000\n",
              "2022-08-01  1686.5    26175.6   93.654783\n",
              "2022-09-01  1310.5    23466.7   86.198095\n",
              "2022-10-01  1288.1    23440.3   88.488095\n",
              "2022-11-01  1114.1    22979.9   86.307143\n",
              "2022-12-01  1472.8    22355.0   78.330476\n",
              "2023-01-01  1487.9    20835.9   79.818095\n",
              "2023-02-01  1186.5    20134.8   78.069474\n",
              "2023-03-01  1338.2    22077.8   74.659565\n",
              "2023-04-01  1258.7    18025.4   80.506842"
            ]
          },
          "execution_count": 60,
          "metadata": {},
          "output_type": "execute_result"
        }
      ],
      "source": [
        "test_df"
      ]
    },
    {
      "cell_type": "code",
      "execution_count": 61,
      "metadata": {
        "colab": {
          "base_uri": "https://localhost:8080/",
          "height": 457
        },
        "id": "c_D35zEqy6eG",
        "outputId": "30c1543a-062e-494a-d4a1-95a8608110c4"
      },
      "outputs": [
        {
          "data": {
            "text/html": [
              "<div>\n",
              "<style scoped>\n",
              "    .dataframe tbody tr th:only-of-type {\n",
              "        vertical-align: middle;\n",
              "    }\n",
              "\n",
              "    .dataframe tbody tr th {\n",
              "        vertical-align: top;\n",
              "    }\n",
              "\n",
              "    .dataframe thead th {\n",
              "        text-align: right;\n",
              "    }\n",
              "</style>\n",
              "<table border=\"1\" class=\"dataframe\">\n",
              "  <thead>\n",
              "    <tr style=\"text-align: right;\">\n",
              "      <th></th>\n",
              "      <th>Migas Prediction</th>\n",
              "      <th>Non Migas Prediction</th>\n",
              "      <th>Crude Oil Prediction</th>\n",
              "    </tr>\n",
              "  </thead>\n",
              "  <tbody>\n",
              "    <tr>\n",
              "      <th>2022-04-01</th>\n",
              "      <td>1409.064714</td>\n",
              "      <td>23608.097071</td>\n",
              "      <td>110.916940</td>\n",
              "    </tr>\n",
              "    <tr>\n",
              "      <th>2022-05-01</th>\n",
              "      <td>1654.173389</td>\n",
              "      <td>21833.664759</td>\n",
              "      <td>104.065979</td>\n",
              "    </tr>\n",
              "    <tr>\n",
              "      <th>2022-06-01</th>\n",
              "      <td>1652.351209</td>\n",
              "      <td>22603.517233</td>\n",
              "      <td>117.455411</td>\n",
              "    </tr>\n",
              "    <tr>\n",
              "      <th>2022-07-01</th>\n",
              "      <td>1633.331048</td>\n",
              "      <td>24346.415066</td>\n",
              "      <td>110.260038</td>\n",
              "    </tr>\n",
              "    <tr>\n",
              "      <th>2022-08-01</th>\n",
              "      <td>1666.327576</td>\n",
              "      <td>24891.851658</td>\n",
              "      <td>94.073991</td>\n",
              "    </tr>\n",
              "    <tr>\n",
              "      <th>2022-09-01</th>\n",
              "      <td>1373.346635</td>\n",
              "      <td>22869.303081</td>\n",
              "      <td>92.424393</td>\n",
              "    </tr>\n",
              "    <tr>\n",
              "      <th>2022-10-01</th>\n",
              "      <td>1214.272397</td>\n",
              "      <td>23109.748765</td>\n",
              "      <td>89.793465</td>\n",
              "    </tr>\n",
              "    <tr>\n",
              "      <th>2022-11-01</th>\n",
              "      <td>1166.565744</td>\n",
              "      <td>23589.725277</td>\n",
              "      <td>88.042017</td>\n",
              "    </tr>\n",
              "    <tr>\n",
              "      <th>2022-12-01</th>\n",
              "      <td>1266.065111</td>\n",
              "      <td>23237.104638</td>\n",
              "      <td>82.360608</td>\n",
              "    </tr>\n",
              "    <tr>\n",
              "      <th>2023-01-01</th>\n",
              "      <td>1432.623027</td>\n",
              "      <td>21314.956234</td>\n",
              "      <td>77.390809</td>\n",
              "    </tr>\n",
              "    <tr>\n",
              "      <th>2023-02-01</th>\n",
              "      <td>1036.071804</td>\n",
              "      <td>21312.160192</td>\n",
              "      <td>82.298222</td>\n",
              "    </tr>\n",
              "    <tr>\n",
              "      <th>2023-03-01</th>\n",
              "      <td>1458.823055</td>\n",
              "      <td>21270.784193</td>\n",
              "      <td>78.897343</td>\n",
              "    </tr>\n",
              "    <tr>\n",
              "      <th>2023-04-01</th>\n",
              "      <td>1053.462429</td>\n",
              "      <td>19949.815190</td>\n",
              "      <td>74.985542</td>\n",
              "    </tr>\n",
              "  </tbody>\n",
              "</table>\n",
              "</div>"
            ],
            "text/plain": [
              "            Migas Prediction  Non Migas Prediction  Crude Oil Prediction\n",
              "2022-04-01       1409.064714          23608.097071            110.916940\n",
              "2022-05-01       1654.173389          21833.664759            104.065979\n",
              "2022-06-01       1652.351209          22603.517233            117.455411\n",
              "2022-07-01       1633.331048          24346.415066            110.260038\n",
              "2022-08-01       1666.327576          24891.851658             94.073991\n",
              "2022-09-01       1373.346635          22869.303081             92.424393\n",
              "2022-10-01       1214.272397          23109.748765             89.793465\n",
              "2022-11-01       1166.565744          23589.725277             88.042017\n",
              "2022-12-01       1266.065111          23237.104638             82.360608\n",
              "2023-01-01       1432.623027          21314.956234             77.390809\n",
              "2023-02-01       1036.071804          21312.160192             82.298222\n",
              "2023-03-01       1458.823055          21270.784193             78.897343\n",
              "2023-04-01       1053.462429          19949.815190             74.985542"
            ]
          },
          "execution_count": 61,
          "metadata": {},
          "output_type": "execute_result"
        }
      ],
      "source": [
        "predictions"
      ]
    },
    {
      "cell_type": "code",
      "execution_count": 62,
      "metadata": {
        "colab": {
          "base_uri": "https://localhost:8080/",
          "height": 488
        },
        "id": "NMunBehky6eG",
        "outputId": "4d5c15fd-2a59-4ee9-83ef-9261925d51c2"
      },
      "outputs": [
        {
          "data": {
            "text/html": [
              "<div>\n",
              "<style scoped>\n",
              "    .dataframe tbody tr th:only-of-type {\n",
              "        vertical-align: middle;\n",
              "    }\n",
              "\n",
              "    .dataframe tbody tr th {\n",
              "        vertical-align: top;\n",
              "    }\n",
              "\n",
              "    .dataframe thead th {\n",
              "        text-align: right;\n",
              "    }\n",
              "</style>\n",
              "<table border=\"1\" class=\"dataframe\">\n",
              "  <thead>\n",
              "    <tr style=\"text-align: right;\">\n",
              "      <th></th>\n",
              "      <th>Migas</th>\n",
              "      <th>Migas Prediction</th>\n",
              "      <th>Non Migas</th>\n",
              "      <th>Non Migas Prediction</th>\n",
              "      <th>Crude Oil</th>\n",
              "      <th>Crude Oil Prediction</th>\n",
              "    </tr>\n",
              "    <tr>\n",
              "      <th>Date</th>\n",
              "      <th></th>\n",
              "      <th></th>\n",
              "      <th></th>\n",
              "      <th></th>\n",
              "      <th></th>\n",
              "      <th></th>\n",
              "    </tr>\n",
              "  </thead>\n",
              "  <tbody>\n",
              "    <tr>\n",
              "      <th>2022-04-01</th>\n",
              "      <td>1433.3</td>\n",
              "      <td>1409.064714</td>\n",
              "      <td>25889.0</td>\n",
              "      <td>23608.097071</td>\n",
              "      <td>103.919000</td>\n",
              "      <td>110.916940</td>\n",
              "    </tr>\n",
              "    <tr>\n",
              "      <th>2022-05-01</th>\n",
              "      <td>1496.1</td>\n",
              "      <td>1654.173389</td>\n",
              "      <td>20013.7</td>\n",
              "      <td>21833.664759</td>\n",
              "      <td>111.415238</td>\n",
              "      <td>104.065979</td>\n",
              "    </tr>\n",
              "    <tr>\n",
              "      <th>2022-06-01</th>\n",
              "      <td>1549.3</td>\n",
              "      <td>1652.351209</td>\n",
              "      <td>24600.8</td>\n",
              "      <td>22603.517233</td>\n",
              "      <td>116.580000</td>\n",
              "      <td>117.455411</td>\n",
              "    </tr>\n",
              "    <tr>\n",
              "      <th>2022-07-01</th>\n",
              "      <td>1367.9</td>\n",
              "      <td>1633.331048</td>\n",
              "      <td>24195.3</td>\n",
              "      <td>24346.415066</td>\n",
              "      <td>102.051000</td>\n",
              "      <td>110.260038</td>\n",
              "    </tr>\n",
              "    <tr>\n",
              "      <th>2022-08-01</th>\n",
              "      <td>1686.5</td>\n",
              "      <td>1666.327576</td>\n",
              "      <td>26175.6</td>\n",
              "      <td>24891.851658</td>\n",
              "      <td>93.654783</td>\n",
              "      <td>94.073991</td>\n",
              "    </tr>\n",
              "    <tr>\n",
              "      <th>2022-09-01</th>\n",
              "      <td>1310.5</td>\n",
              "      <td>1373.346635</td>\n",
              "      <td>23466.7</td>\n",
              "      <td>22869.303081</td>\n",
              "      <td>86.198095</td>\n",
              "      <td>92.424393</td>\n",
              "    </tr>\n",
              "    <tr>\n",
              "      <th>2022-10-01</th>\n",
              "      <td>1288.1</td>\n",
              "      <td>1214.272397</td>\n",
              "      <td>23440.3</td>\n",
              "      <td>23109.748765</td>\n",
              "      <td>88.488095</td>\n",
              "      <td>89.793465</td>\n",
              "    </tr>\n",
              "    <tr>\n",
              "      <th>2022-11-01</th>\n",
              "      <td>1114.1</td>\n",
              "      <td>1166.565744</td>\n",
              "      <td>22979.9</td>\n",
              "      <td>23589.725277</td>\n",
              "      <td>86.307143</td>\n",
              "      <td>88.042017</td>\n",
              "    </tr>\n",
              "    <tr>\n",
              "      <th>2022-12-01</th>\n",
              "      <td>1472.8</td>\n",
              "      <td>1266.065111</td>\n",
              "      <td>22355.0</td>\n",
              "      <td>23237.104638</td>\n",
              "      <td>78.330476</td>\n",
              "      <td>82.360608</td>\n",
              "    </tr>\n",
              "    <tr>\n",
              "      <th>2023-01-01</th>\n",
              "      <td>1487.9</td>\n",
              "      <td>1432.623027</td>\n",
              "      <td>20835.9</td>\n",
              "      <td>21314.956234</td>\n",
              "      <td>79.818095</td>\n",
              "      <td>77.390809</td>\n",
              "    </tr>\n",
              "    <tr>\n",
              "      <th>2023-02-01</th>\n",
              "      <td>1186.5</td>\n",
              "      <td>1036.071804</td>\n",
              "      <td>20134.8</td>\n",
              "      <td>21312.160192</td>\n",
              "      <td>78.069474</td>\n",
              "      <td>82.298222</td>\n",
              "    </tr>\n",
              "    <tr>\n",
              "      <th>2023-03-01</th>\n",
              "      <td>1338.2</td>\n",
              "      <td>1458.823055</td>\n",
              "      <td>22077.8</td>\n",
              "      <td>21270.784193</td>\n",
              "      <td>74.659565</td>\n",
              "      <td>78.897343</td>\n",
              "    </tr>\n",
              "    <tr>\n",
              "      <th>2023-04-01</th>\n",
              "      <td>1258.7</td>\n",
              "      <td>1053.462429</td>\n",
              "      <td>18025.4</td>\n",
              "      <td>19949.815190</td>\n",
              "      <td>80.506842</td>\n",
              "      <td>74.985542</td>\n",
              "    </tr>\n",
              "  </tbody>\n",
              "</table>\n",
              "</div>"
            ],
            "text/plain": [
              "             Migas  Migas Prediction  Non Migas  Non Migas Prediction  \\\n",
              "Date                                                                    \n",
              "2022-04-01  1433.3       1409.064714    25889.0          23608.097071   \n",
              "2022-05-01  1496.1       1654.173389    20013.7          21833.664759   \n",
              "2022-06-01  1549.3       1652.351209    24600.8          22603.517233   \n",
              "2022-07-01  1367.9       1633.331048    24195.3          24346.415066   \n",
              "2022-08-01  1686.5       1666.327576    26175.6          24891.851658   \n",
              "2022-09-01  1310.5       1373.346635    23466.7          22869.303081   \n",
              "2022-10-01  1288.1       1214.272397    23440.3          23109.748765   \n",
              "2022-11-01  1114.1       1166.565744    22979.9          23589.725277   \n",
              "2022-12-01  1472.8       1266.065111    22355.0          23237.104638   \n",
              "2023-01-01  1487.9       1432.623027    20835.9          21314.956234   \n",
              "2023-02-01  1186.5       1036.071804    20134.8          21312.160192   \n",
              "2023-03-01  1338.2       1458.823055    22077.8          21270.784193   \n",
              "2023-04-01  1258.7       1053.462429    18025.4          19949.815190   \n",
              "\n",
              "             Crude Oil  Crude Oil Prediction  \n",
              "Date                                          \n",
              "2022-04-01  103.919000            110.916940  \n",
              "2022-05-01  111.415238            104.065979  \n",
              "2022-06-01  116.580000            117.455411  \n",
              "2022-07-01  102.051000            110.260038  \n",
              "2022-08-01   93.654783             94.073991  \n",
              "2022-09-01   86.198095             92.424393  \n",
              "2022-10-01   88.488095             89.793465  \n",
              "2022-11-01   86.307143             88.042017  \n",
              "2022-12-01   78.330476             82.360608  \n",
              "2023-01-01   79.818095             77.390809  \n",
              "2023-02-01   78.069474             82.298222  \n",
              "2023-03-01   74.659565             78.897343  \n",
              "2023-04-01   80.506842             74.985542  "
            ]
          },
          "execution_count": 62,
          "metadata": {},
          "output_type": "execute_result"
        }
      ],
      "source": [
        "# Perform a join on the index\n",
        "merged_df = test_df.join(predictions)\n",
        "\n",
        "# Specify the desired column order\n",
        "column_order = ['Migas', 'Migas Prediction', 'Non Migas', 'Non Migas Prediction', 'Crude Oil', 'Crude Oil Prediction']\n",
        "\n",
        "# Reorder the columns\n",
        "merged_df = merged_df[column_order]\n",
        "merged_df"
      ]
    },
    {
      "cell_type": "code",
      "execution_count": 63,
      "metadata": {
        "id": "b6zyigFSy6eG"
      },
      "outputs": [],
      "source": [
        "merged_df.to_csv('5. merged_df.csv')"
      ]
    },
    {
      "cell_type": "markdown",
      "metadata": {
        "id": "KScEGXlXa69s"
      },
      "source": [
        "## Error Measurement"
      ]
    },
    {
      "cell_type": "code",
      "execution_count": 64,
      "metadata": {
        "id": "eUI6hB_K8WjP"
      },
      "outputs": [],
      "source": [
        "# import statistics\n",
        "import math\n",
        "\n",
        "def avg(arr):\n",
        "    return sum(arr) / len(arr)"
      ]
    },
    {
      "cell_type": "code",
      "execution_count": 65,
      "metadata": {
        "colab": {
          "base_uri": "https://localhost:8080/"
        },
        "id": "dzzZbp938ZQm",
        "outputId": "0316c2ad-6418-4f6b-835d-db8bb2779758"
      },
      "outputs": [
        {
          "data": {
            "text/plain": [
              "(13, 3)"
            ]
          },
          "execution_count": 65,
          "metadata": {},
          "output_type": "execute_result"
        }
      ],
      "source": [
        "predictions.shape"
      ]
    },
    {
      "cell_type": "code",
      "execution_count": 66,
      "metadata": {
        "id": "s6oNtFzp8aeU"
      },
      "outputs": [],
      "source": [
        "test_df_error=test_df\n",
        "test_df_error.columns=['Migas Prediction', 'Non Migas Prediction', 'Crude Oil Prediction']"
      ]
    },
    {
      "cell_type": "code",
      "execution_count": 67,
      "metadata": {
        "colab": {
          "base_uri": "https://localhost:8080/"
        },
        "id": "mh3wJ-ts8e1R",
        "outputId": "6195051e-4716-4bdd-b377-15af789c8b40"
      },
      "outputs": [
        {
          "name": "stdout",
          "output_type": "stream",
          "text": [
            "Attribute:  Migas Prediction\n",
            "Mean Square Error:  18792.57047386693\n",
            "Mean Absolute Error:  115.26184785984037\n",
            "Root Mean Square Error:  137.0859966366621\n",
            "R-Squared Error:  0.1774733623521344\n",
            "\n",
            "Attribute:  Non Migas Prediction\n",
            "Mean Square Error:  1673941.2930768062\n",
            "Mean Absolute Error:  1103.133796579357\n",
            "Root Mean Square Error:  1293.8088317355105\n",
            "R-Squared Error:  0.6840629499130071\n",
            "\n",
            "Attribute:  Crude Oil Prediction\n",
            "Mean Square Error:  23.327170899169662\n",
            "Mean Absolute Error:  4.120203204214255\n",
            "Root Mean Square Error:  4.829821000737984\n",
            "R-Squared Error:  0.8650862022577036\n",
            "\n"
          ]
        }
      ],
      "source": [
        "MSE = []\n",
        "MAE = []\n",
        "RMSE = []\n",
        "RSq = []\n",
        "cols = predictions.columns\n",
        "\n",
        "for col in cols:\n",
        "    actual = test_df_error[col].to_numpy()\n",
        "    pred = predictions[col].to_numpy()\n",
        "    d = actual-pred\n",
        "    mse = avg(d*d)\n",
        "    mae = avg(abs(d))\n",
        "    rmse = math.sqrt(mse)\n",
        "    rsq = 1-(sum((d*d)/sum(pow(actual-avg(actual),2))))\n",
        "\n",
        "    print(\"Attribute: \", col)\n",
        "    print(\"Mean Square Error: \", mse)\n",
        "    print(\"Mean Absolute Error: \", mae)\n",
        "    print(\"Root Mean Square Error: \", rmse)\n",
        "    print(\"R-Squared Error: \", rsq)\n",
        "    print()\n",
        "\n",
        "    MSE.append(mse)\n",
        "    MAE.append(mae)\n",
        "    RMSE.append(rmse)\n",
        "    RSq.append(rsq)"
      ]
    },
    {
      "cell_type": "code",
      "execution_count": 68,
      "metadata": {
        "colab": {
          "base_uri": "https://localhost:8080/",
          "height": 175
        },
        "id": "0hvEoMrV8gRm",
        "outputId": "8fea06b4-d518-45cc-a594-66c5f87d7cbc"
      },
      "outputs": [
        {
          "data": {
            "text/html": [
              "<div>\n",
              "<style scoped>\n",
              "    .dataframe tbody tr th:only-of-type {\n",
              "        vertical-align: middle;\n",
              "    }\n",
              "\n",
              "    .dataframe tbody tr th {\n",
              "        vertical-align: top;\n",
              "    }\n",
              "\n",
              "    .dataframe thead th {\n",
              "        text-align: right;\n",
              "    }\n",
              "</style>\n",
              "<table border=\"1\" class=\"dataframe\">\n",
              "  <thead>\n",
              "    <tr style=\"text-align: right;\">\n",
              "      <th></th>\n",
              "      <th>MSE</th>\n",
              "      <th>MAE</th>\n",
              "      <th>RMSE</th>\n",
              "      <th>RSq</th>\n",
              "    </tr>\n",
              "    <tr>\n",
              "      <th>cols</th>\n",
              "      <th></th>\n",
              "      <th></th>\n",
              "      <th></th>\n",
              "      <th></th>\n",
              "    </tr>\n",
              "  </thead>\n",
              "  <tbody>\n",
              "    <tr>\n",
              "      <th>Migas Prediction</th>\n",
              "      <td>1.879257e+04</td>\n",
              "      <td>115.261848</td>\n",
              "      <td>137.085997</td>\n",
              "      <td>0.177473</td>\n",
              "    </tr>\n",
              "    <tr>\n",
              "      <th>Non Migas Prediction</th>\n",
              "      <td>1.673941e+06</td>\n",
              "      <td>1103.133797</td>\n",
              "      <td>1293.808832</td>\n",
              "      <td>0.684063</td>\n",
              "    </tr>\n",
              "    <tr>\n",
              "      <th>Crude Oil Prediction</th>\n",
              "      <td>2.332717e+01</td>\n",
              "      <td>4.120203</td>\n",
              "      <td>4.829821</td>\n",
              "      <td>0.865086</td>\n",
              "    </tr>\n",
              "  </tbody>\n",
              "</table>\n",
              "</div>"
            ],
            "text/plain": [
              "                               MSE          MAE         RMSE       RSq\n",
              "cols                                                                  \n",
              "Migas Prediction      1.879257e+04   115.261848   137.085997  0.177473\n",
              "Non Migas Prediction  1.673941e+06  1103.133797  1293.808832  0.684063\n",
              "Crude Oil Prediction  2.332717e+01     4.120203     4.829821  0.865086"
            ]
          },
          "execution_count": 68,
          "metadata": {},
          "output_type": "execute_result"
        }
      ],
      "source": [
        "# Create a DataFrame from the variables\n",
        "error_df = pd.DataFrame({'cols': cols, 'MSE': MSE, 'MAE': MAE, 'RMSE': RMSE, 'RSq': RSq})\n",
        "\n",
        "# Set 'cols' as the index\n",
        "error_df = error_df.set_index('cols')\n",
        "error_df"
      ]
    },
    {
      "cell_type": "code",
      "execution_count": 69,
      "metadata": {
        "id": "hLHB_kVwgXRg"
      },
      "outputs": [],
      "source": [
        "error_df.to_csv('6. error_df.csv')"
      ]
    },
    {
      "cell_type": "code",
      "execution_count": 70,
      "metadata": {
        "colab": {
          "base_uri": "https://localhost:8080/",
          "height": 1000
        },
        "id": "QIKSnsVU9ICM",
        "outputId": "b07e188c-b4e5-47f5-ae6c-14e75fa351c1"
      },
      "outputs": [
        {
          "data": {
            "image/png": "[encoded data removed]",
            "text/plain": [
              "<Figure size 1100x1000 with 4 Axes>"
            ]
          },
          "metadata": {},
          "output_type": "display_data"
        }
      ],
      "source": [
        "# Create a 2x2 grid of subplots\n",
        "fig, axs = plt.subplots(2, 2, figsize=(11, 10))\n",
        "\n",
        "# Plot MSE\n",
        "axs[0, 0].bar(cols, MSE)\n",
        "axs[0, 0].set_title(\"Mean Square Error\")\n",
        "\n",
        "# Plot MAE\n",
        "axs[0, 1].bar(cols, MAE)\n",
        "axs[0, 1].set_title(\"Mean Absolute Error\")\n",
        "\n",
        "# Plot RMSE\n",
        "axs[1, 0].bar(cols, RMSE)\n",
        "axs[1, 0].set_title(\"Root Mean Square Error\")\n",
        "\n",
        "# Plot RSq\n",
        "axs[1, 1].bar(cols, RSq)\n",
        "axs[1, 1].set_title(\"R-Squared Error\")\n",
        "\n",
        "# Adjust spacing between subplots\n",
        "plt.tight_layout()\n",
        "\n",
        "# Show the plot\n",
        "plt.show()"
      ]
    },
    {
      "cell_type": "markdown",
      "metadata": {
        "id": "eRXO1c_kPrVi"
      },
      "source": [
        "## Predictions from April 2023 to December 2024"
      ]
    },
    {
      "cell_type": "code",
      "execution_count": 71,
      "metadata": {
        "colab": {
          "base_uri": "https://localhost:8080/",
          "height": 708
        },
        "id": "WM5nONFGPunF",
        "outputId": "20806986-36d8-45c9-ebb3-91ac905c3155"
      },
      "outputs": [
        {
          "data": {
            "text/html": [
              "<div>\n",
              "<style scoped>\n",
              "    .dataframe tbody tr th:only-of-type {\n",
              "        vertical-align: middle;\n",
              "    }\n",
              "\n",
              "    .dataframe tbody tr th {\n",
              "        vertical-align: top;\n",
              "    }\n",
              "\n",
              "    .dataframe thead th {\n",
              "        text-align: right;\n",
              "    }\n",
              "</style>\n",
              "<table border=\"1\" class=\"dataframe\">\n",
              "  <thead>\n",
              "    <tr style=\"text-align: right;\">\n",
              "      <th></th>\n",
              "      <th>Migas Prediction</th>\n",
              "      <th>Non Migas Prediction</th>\n",
              "      <th>Crude Oil Prediction</th>\n",
              "    </tr>\n",
              "  </thead>\n",
              "  <tbody>\n",
              "    <tr>\n",
              "      <th>2023-04-01</th>\n",
              "      <td>1053.462429</td>\n",
              "      <td>19949.815190</td>\n",
              "      <td>74.985542</td>\n",
              "    </tr>\n",
              "    <tr>\n",
              "      <th>2023-05-01</th>\n",
              "      <td>1450.441616</td>\n",
              "      <td>18573.687217</td>\n",
              "      <td>84.119862</td>\n",
              "    </tr>\n",
              "    <tr>\n",
              "      <th>2023-06-01</th>\n",
              "      <td>1465.279195</td>\n",
              "      <td>18652.693503</td>\n",
              "      <td>83.800927</td>\n",
              "    </tr>\n",
              "    <tr>\n",
              "      <th>2023-07-01</th>\n",
              "      <td>1518.284873</td>\n",
              "      <td>19271.778911</td>\n",
              "      <td>80.653934</td>\n",
              "    </tr>\n",
              "    <tr>\n",
              "      <th>2023-08-01</th>\n",
              "      <td>1566.411704</td>\n",
              "      <td>17726.758605</td>\n",
              "      <td>78.280394</td>\n",
              "    </tr>\n",
              "    <tr>\n",
              "      <th>2023-09-01</th>\n",
              "      <td>1585.790547</td>\n",
              "      <td>17390.547578</td>\n",
              "      <td>76.700632</td>\n",
              "    </tr>\n",
              "    <tr>\n",
              "      <th>2023-10-01</th>\n",
              "      <td>1519.434807</td>\n",
              "      <td>17359.815555</td>\n",
              "      <td>72.602911</td>\n",
              "    </tr>\n",
              "    <tr>\n",
              "      <th>2023-11-01</th>\n",
              "      <td>1447.836726</td>\n",
              "      <td>17087.901579</td>\n",
              "      <td>68.918513</td>\n",
              "    </tr>\n",
              "    <tr>\n",
              "      <th>2023-12-01</th>\n",
              "      <td>1594.917434</td>\n",
              "      <td>16207.909511</td>\n",
              "      <td>67.490689</td>\n",
              "    </tr>\n",
              "    <tr>\n",
              "      <th>2024-01-01</th>\n",
              "      <td>1376.486476</td>\n",
              "      <td>15630.501185</td>\n",
              "      <td>67.198914</td>\n",
              "    </tr>\n",
              "    <tr>\n",
              "      <th>2024-02-01</th>\n",
              "      <td>1467.278607</td>\n",
              "      <td>16049.183939</td>\n",
              "      <td>65.966791</td>\n",
              "    </tr>\n",
              "    <tr>\n",
              "      <th>2024-03-01</th>\n",
              "      <td>1403.231409</td>\n",
              "      <td>15556.684130</td>\n",
              "      <td>64.061845</td>\n",
              "    </tr>\n",
              "    <tr>\n",
              "      <th>2024-04-01</th>\n",
              "      <td>1445.854624</td>\n",
              "      <td>14758.263419</td>\n",
              "      <td>64.658395</td>\n",
              "    </tr>\n",
              "    <tr>\n",
              "      <th>2024-05-01</th>\n",
              "      <td>1426.431532</td>\n",
              "      <td>14786.506856</td>\n",
              "      <td>64.426434</td>\n",
              "    </tr>\n",
              "    <tr>\n",
              "      <th>2024-06-01</th>\n",
              "      <td>1421.800133</td>\n",
              "      <td>14757.384200</td>\n",
              "      <td>63.924191</td>\n",
              "    </tr>\n",
              "    <tr>\n",
              "      <th>2024-07-01</th>\n",
              "      <td>1454.330608</td>\n",
              "      <td>14714.630738</td>\n",
              "      <td>63.223638</td>\n",
              "    </tr>\n",
              "    <tr>\n",
              "      <th>2024-08-01</th>\n",
              "      <td>1436.891282</td>\n",
              "      <td>14032.236958</td>\n",
              "      <td>62.962961</td>\n",
              "    </tr>\n",
              "    <tr>\n",
              "      <th>2024-09-01</th>\n",
              "      <td>1451.383818</td>\n",
              "      <td>14262.459330</td>\n",
              "      <td>63.143364</td>\n",
              "    </tr>\n",
              "    <tr>\n",
              "      <th>2024-10-01</th>\n",
              "      <td>1431.004060</td>\n",
              "      <td>14183.743606</td>\n",
              "      <td>62.443950</td>\n",
              "    </tr>\n",
              "    <tr>\n",
              "      <th>2024-11-01</th>\n",
              "      <td>1473.334167</td>\n",
              "      <td>14029.645917</td>\n",
              "      <td>62.211771</td>\n",
              "    </tr>\n",
              "    <tr>\n",
              "      <th>2024-12-01</th>\n",
              "      <td>1477.877418</td>\n",
              "      <td>13826.067091</td>\n",
              "      <td>62.318586</td>\n",
              "    </tr>\n",
              "  </tbody>\n",
              "</table>\n",
              "</div>"
            ],
            "text/plain": [
              "            Migas Prediction  Non Migas Prediction  Crude Oil Prediction\n",
              "2023-04-01       1053.462429          19949.815190             74.985542\n",
              "2023-05-01       1450.441616          18573.687217             84.119862\n",
              "2023-06-01       1465.279195          18652.693503             83.800927\n",
              "2023-07-01       1518.284873          19271.778911             80.653934\n",
              "2023-08-01       1566.411704          17726.758605             78.280394\n",
              "2023-09-01       1585.790547          17390.547578             76.700632\n",
              "2023-10-01       1519.434807          17359.815555             72.602911\n",
              "2023-11-01       1447.836726          17087.901579             68.918513\n",
              "2023-12-01       1594.917434          16207.909511             67.490689\n",
              "2024-01-01       1376.486476          15630.501185             67.198914\n",
              "2024-02-01       1467.278607          16049.183939             65.966791\n",
              "2024-03-01       1403.231409          15556.684130             64.061845\n",
              "2024-04-01       1445.854624          14758.263419             64.658395\n",
              "2024-05-01       1426.431532          14786.506856             64.426434\n",
              "2024-06-01       1421.800133          14757.384200             63.924191\n",
              "2024-07-01       1454.330608          14714.630738             63.223638\n",
              "2024-08-01       1436.891282          14032.236958             62.962961\n",
              "2024-09-01       1451.383818          14262.459330             63.143364\n",
              "2024-10-01       1431.004060          14183.743606             62.443950\n",
              "2024-11-01       1473.334167          14029.645917             62.211771\n",
              "2024-12-01       1477.877418          13826.067091             62.318586"
            ]
          },
          "execution_count": 71,
          "metadata": {},
          "output_type": "execute_result"
        }
      ],
      "source": [
        "predict=fitted_model.get_prediction(start=len(df)-1, end=len(df)+19)\n",
        "forecast=predict.predicted_mean\n",
        "forecast.columns=['Migas Prediction', 'Non Migas Prediction', 'Crude Oil Prediction']\n",
        "forecast=forecast.abs()\n",
        "forecast"
      ]
    },
    {
      "cell_type": "code",
      "execution_count": 72,
      "metadata": {
        "id": "dmTJ7z0Pgi2S"
      },
      "outputs": [],
      "source": [
        "forecast.to_csv('7. forecast.csv')"
      ]
    },
    {
      "cell_type": "code",
      "execution_count": 73,
      "metadata": {
        "colab": {
          "base_uri": "https://localhost:8080/",
          "height": 564
        },
        "id": "wmeJU9BLLKCn",
        "outputId": "97471401-4aec-486b-f2ae-a21f1658b163"
      },
      "outputs": [
        {
          "data": {
            "image/png": "[encoded data removed]",
            "text/plain": [
              "<Figure size 1200x600 with 1 Axes>"
            ]
          },
          "metadata": {},
          "output_type": "display_data"
        }
      ],
      "source": [
        "# Create the plot\n",
        "fig, ax = plt.subplots(figsize=(12, 6))\n",
        "df.plot(ax=ax, label='Aktual')\n",
        "forecast.plot(ax=ax, label='Forecast')\n",
        "\n",
        "# Add labels and title to the plot\n",
        "plt.xlabel('X-axis label')\n",
        "plt.ylabel('Y-axis label')\n",
        "plt.title('Plot of Aktual and Forecast')\n",
        "\n",
        "# Add legend\n",
        "plt.legend()\n",
        "\n",
        "# Display the plot\n",
        "plt.show()"
      ]
    },
    {
      "cell_type": "markdown",
      "metadata": {
        "id": "4zWy7fCQkgRg"
      },
      "source": [
        "## Predictions for 2024"
      ]
    },
    {
      "cell_type": "code",
      "execution_count": 74,
      "metadata": {
        "colab": {
          "base_uri": "https://localhost:8080/",
          "height": 503
        },
        "id": "bxwtDy-TN05t",
        "outputId": "43a5690e-2557-4ca4-ced0-32e29937e8ed"
      },
      "outputs": [
        {
          "data": {
            "image/png": "[encoded data removed]",
            "text/plain": [
              "<Figure size 600x500 with 1 Axes>"
            ]
          },
          "metadata": {},
          "output_type": "display_data"
        }
      ],
      "source": [
        "# Filter rows for the time range of 2024\n",
        "filtered_forecast = forecast['2024-01-01':]\n",
        "\n",
        "# Plot forecast columns\n",
        "fig, ax = plt.subplots(figsize=(6, 5))\n",
        "filtered_forecast.plot(ax=ax, label='Forecast')\n",
        "\n",
        "# Set plot title and axis labels\n",
        "plt.title('Prediksi tahun 2024')\n",
        "plt.xlabel('Tanggal')\n",
        "plt.ylabel('Value')\n",
        "\n",
        "# Display the plot\n",
        "plt.show()"
      ]
    },
    {
      "cell_type": "code",
      "execution_count": 75,
      "metadata": {
        "colab": {
          "base_uri": "https://localhost:8080/",
          "height": 425
        },
        "id": "0w7agrX2gnOR",
        "outputId": "1ab5c2fc-f773-41cb-e251-fb32c03f513f"
      },
      "outputs": [
        {
          "data": {
            "text/html": [
              "<div>\n",
              "<style scoped>\n",
              "    .dataframe tbody tr th:only-of-type {\n",
              "        vertical-align: middle;\n",
              "    }\n",
              "\n",
              "    .dataframe tbody tr th {\n",
              "        vertical-align: top;\n",
              "    }\n",
              "\n",
              "    .dataframe thead th {\n",
              "        text-align: right;\n",
              "    }\n",
              "</style>\n",
              "<table border=\"1\" class=\"dataframe\">\n",
              "  <thead>\n",
              "    <tr style=\"text-align: right;\">\n",
              "      <th></th>\n",
              "      <th>Migas Prediction</th>\n",
              "      <th>Non Migas Prediction</th>\n",
              "      <th>Crude Oil Prediction</th>\n",
              "    </tr>\n",
              "  </thead>\n",
              "  <tbody>\n",
              "    <tr>\n",
              "      <th>2024-01-01</th>\n",
              "      <td>1376.486476</td>\n",
              "      <td>15630.501185</td>\n",
              "      <td>67.198914</td>\n",
              "    </tr>\n",
              "    <tr>\n",
              "      <th>2024-02-01</th>\n",
              "      <td>1467.278607</td>\n",
              "      <td>16049.183939</td>\n",
              "      <td>65.966791</td>\n",
              "    </tr>\n",
              "    <tr>\n",
              "      <th>2024-03-01</th>\n",
              "      <td>1403.231409</td>\n",
              "      <td>15556.684130</td>\n",
              "      <td>64.061845</td>\n",
              "    </tr>\n",
              "    <tr>\n",
              "      <th>2024-04-01</th>\n",
              "      <td>1445.854624</td>\n",
              "      <td>14758.263419</td>\n",
              "      <td>64.658395</td>\n",
              "    </tr>\n",
              "    <tr>\n",
              "      <th>2024-05-01</th>\n",
              "      <td>1426.431532</td>\n",
              "      <td>14786.506856</td>\n",
              "      <td>64.426434</td>\n",
              "    </tr>\n",
              "    <tr>\n",
              "      <th>2024-06-01</th>\n",
              "      <td>1421.800133</td>\n",
              "      <td>14757.384200</td>\n",
              "      <td>63.924191</td>\n",
              "    </tr>\n",
              "    <tr>\n",
              "      <th>2024-07-01</th>\n",
              "      <td>1454.330608</td>\n",
              "      <td>14714.630738</td>\n",
              "      <td>63.223638</td>\n",
              "    </tr>\n",
              "    <tr>\n",
              "      <th>2024-08-01</th>\n",
              "      <td>1436.891282</td>\n",
              "      <td>14032.236958</td>\n",
              "      <td>62.962961</td>\n",
              "    </tr>\n",
              "    <tr>\n",
              "      <th>2024-09-01</th>\n",
              "      <td>1451.383818</td>\n",
              "      <td>14262.459330</td>\n",
              "      <td>63.143364</td>\n",
              "    </tr>\n",
              "    <tr>\n",
              "      <th>2024-10-01</th>\n",
              "      <td>1431.004060</td>\n",
              "      <td>14183.743606</td>\n",
              "      <td>62.443950</td>\n",
              "    </tr>\n",
              "    <tr>\n",
              "      <th>2024-11-01</th>\n",
              "      <td>1473.334167</td>\n",
              "      <td>14029.645917</td>\n",
              "      <td>62.211771</td>\n",
              "    </tr>\n",
              "    <tr>\n",
              "      <th>2024-12-01</th>\n",
              "      <td>1477.877418</td>\n",
              "      <td>13826.067091</td>\n",
              "      <td>62.318586</td>\n",
              "    </tr>\n",
              "  </tbody>\n",
              "</table>\n",
              "</div>"
            ],
            "text/plain": [
              "            Migas Prediction  Non Migas Prediction  Crude Oil Prediction\n",
              "2024-01-01       1376.486476          15630.501185             67.198914\n",
              "2024-02-01       1467.278607          16049.183939             65.966791\n",
              "2024-03-01       1403.231409          15556.684130             64.061845\n",
              "2024-04-01       1445.854624          14758.263419             64.658395\n",
              "2024-05-01       1426.431532          14786.506856             64.426434\n",
              "2024-06-01       1421.800133          14757.384200             63.924191\n",
              "2024-07-01       1454.330608          14714.630738             63.223638\n",
              "2024-08-01       1436.891282          14032.236958             62.962961\n",
              "2024-09-01       1451.383818          14262.459330             63.143364\n",
              "2024-10-01       1431.004060          14183.743606             62.443950\n",
              "2024-11-01       1473.334167          14029.645917             62.211771\n",
              "2024-12-01       1477.877418          13826.067091             62.318586"
            ]
          },
          "execution_count": 75,
          "metadata": {},
          "output_type": "execute_result"
        }
      ],
      "source": [
        "filtered_forecast"
      ]
    },
    {
      "cell_type": "markdown",
      "metadata": {
        "id": "qyjhK0iDFj3s"
      },
      "source": [
        "# Summary\n",
        "Berdasarkan penelitian di atas, didapatkan beberapa kesimpulan sebagai berikut.\n",
        "\n",
        "1. Hasil prediksi menunjukan Nilai atau Pendapatan Ekspor Non-Migas Indonesia mengalami penurunan yang cukup signifikan pada tahun 2024 dibandingkan dengan tahun-tahun sebelumnya. Hal ini sejalan dengan penurunan pendapatan Ekspor Migas dan harga Crude Oil pada tahun yang sama.\n",
        "2. Dari hasil prediksi tersebut, seperti yang tercantum pada kesimpulan nomor satu, dapat disimpulkan bahwa harga Crude Oil berpengaruh positif terhadap Nilai Ekspor Non-Migas. Harga Crude Oil mempengaruhi potensi pendapatan Ekspor Non-Migas. Semakin tinggi harga Crude Oil, semakin tinggi juga potensi pendapatan Ekspor Non-Migas, dan berlaku sebaliknya. Selain itu, Nilai Ekspor Migas juga berpengaruh positif terhadap Nilai Ekspor Non-Migas, hanya saja pengaruh yang diberikan tidak sesignifikan harga Crude Oil.\n",
        "3. Menindaklanjuti gambaran permasalahan pada kesimpulan nomor satu, mengenai prediksi turunnya potensi pendapatan Ekspor Non-Migas, peneliti menawarkan solusi untuk pihak yang berkaitan dalam bentuk sepuluh rekomendasi komoditi Ekspor Non-Migas yang dapat diekspor pada tahun 2024. Rekomendasi tersebut diambil berdasarkan komoditi dengan penyumbang pendapatan terbanyak selama lima tahun terakhir (2018-2022) meliputi Komoditi Bahan Bakar Mineral, Lemak dan Minyak Hewan/Nabati, Besi dan Baja, Mesin/Peralatan Listrik, Kendaraan dan Bagiannya, Perhiasan/Permata, Karet dan Barang dari Karet, Mesin-Mesin/ Pesawat Mekanik, Berbagai Produk Kimia, serta Bijih, Kerak, dan Abu Logam. Rekomendasi tersebut diberikan agar hasil prediksi dapat dicegah dan memperbaiki nilai Ekspor Non-Migas demi kemajuan ekonomi Indonesia."
      ]
    }
  ],
  "metadata": {
    "colab": {
      "provenance": []
    },
    "kernelspec": {
      "display_name": "Python 3",
      "name": "python3"
    },
    "language_info": {
      "codemirror_mode": {
        "name": "ipython",
        "version": 3
      },
      "file_extension": ".py",
      "mimetype": "text/x-python",
      "name": "python",
      "nbconvert_exporter": "python",
      "pygments_lexer": "ipython3",
      "version": "3.12.2"
    }
  },
  "nbformat": 4,
  "nbformat_minor": 0
}
